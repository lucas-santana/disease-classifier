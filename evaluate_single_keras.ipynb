{
 "cells": [
  {
   "cell_type": "code",
   "execution_count": 87,
   "id": "4975fd14",
   "metadata": {},
   "outputs": [],
   "source": [
    "import os\n",
    "from tensorflow.keras.utils import image_dataset_from_directory\n",
    "from tensorflow import keras\n",
    "from matplotlib import pyplot as plt\n",
    "\n",
    "current_dir = os.path.abspath(os.getcwd())\n",
    "folder = \"/novo\"\n",
    "test_folder = current_dir + folder + \"/test\"\n",
    "\n"
   ]
  },
  {
   "cell_type": "code",
   "execution_count": 88,
   "id": "efe1a7d1",
   "metadata": {},
   "outputs": [
    {
     "name": "stdout",
     "output_type": "stream",
     "text": [
      "Found 484 files belonging to 2 classes.\n"
     ]
    }
   ],
   "source": [
    "test_dataset = image_dataset_from_directory(test_folder, image_size=(180, 180), batch_size=32)\n"
   ]
  },
  {
   "cell_type": "code",
   "execution_count": 89,
   "id": "fe558140",
   "metadata": {},
   "outputs": [],
   "source": [
    "\n",
    "model = keras.models.load_model(\"classificacao14.keras\")\n"
   ]
  },
  {
   "cell_type": "code",
   "execution_count": 90,
   "id": "95d919c6",
   "metadata": {},
   "outputs": [
    {
     "name": "stdout",
     "output_type": "stream",
     "text": [
      "16/16 [==============================] - 1s 59ms/step - loss: 0.4234 - accuracy: 0.9649\n",
      "Test accuracy: 0.423\n"
     ]
    }
   ],
   "source": [
    "\n",
    "test_loss, test_acc = model.evaluate(test_dataset)\n",
    "print(f\"Test accuracy: {test_acc:.3f}\")"
   ]
  }
 ],
 "metadata": {
  "kernelspec": {
   "display_name": "Python 3 (ipykernel)",
   "language": "python",
   "name": "python3"
  },
  "language_info": {
   "codemirror_mode": {
    "name": "ipython",
    "version": 3
   },
   "file_extension": ".py",
   "mimetype": "text/x-python",
   "name": "python",
   "nbconvert_exporter": "python",
   "pygments_lexer": "ipython3",
   "version": "3.8.10"
  }
 },
 "nbformat": 4,
 "nbformat_minor": 5
}
