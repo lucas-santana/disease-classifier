{
 "cells": [
  {
   "cell_type": "code",
   "execution_count": null,
   "id": "315dd6c5",
   "metadata": {},
   "outputs": [],
   "source": [
    "import os\n",
    "import shutil\n",
    "import glob\n",
    "import random\n",
    "from pathlib import Path\n",
    "current_dir = os.path.abspath(os.getcwd())\n",
    "current_dir"
   ]
  },
  {
   "cell_type": "code",
   "execution_count": null,
   "id": "a3c6c8f7",
   "metadata": {},
   "outputs": [],
   "source": [
    "dataset = current_dir+\"/novo\"\n",
    "#copiar todas as imagens (treino, validacao, test) para a pasta all\n",
    "filesName = []\n",
    "for root, dirs, files in os.walk(dataset):\n",
    "    for file in files:\n",
    "        path_file = os.path.join(root,file)\n",
    "        #shutil.copy2(path_file,dataset_folder_normal_drusen)\n",
    "        filesName.append(file)\n",
    "print(len(filesName))"
   ]
  },
  {
   "cell_type": "code",
   "execution_count": null,
   "id": "a2889da9",
   "metadata": {},
   "outputs": [],
   "source": [
    "def checkIfDuplicates(listOfElems):\n",
    "    ''' Check if given list contains any duplicates '''\n",
    "    if len(listOfElems) == len(set(listOfElems)):\n",
    "        print(\"LIST size: \"+str(len(listOfElems)))\n",
    "        print(\"SET size: \"+str(len(set(listOfElems))))\n",
    "        \n",
    "        return False\n",
    "    else:\n",
    "        print(\"LIST size: \"+str(len(listOfElems)))\n",
    "        print(\"SET size: \"+str(len(set(listOfElems))))\n",
    "        print(\"Duplicados: \"+str(len(listOfElems) - len(set(listOfElems))))\n",
    "        return True\n",
    "checkIfDuplicates(filesName)"
   ]
  }
 ],
 "metadata": {
  "kernelspec": {
   "display_name": "Python 3 (ipykernel)",
   "language": "python",
   "name": "python3"
  },
  "language_info": {
   "codemirror_mode": {
    "name": "ipython",
    "version": 3
   },
   "file_extension": ".py",
   "mimetype": "text/x-python",
   "name": "python",
   "nbconvert_exporter": "python",
   "pygments_lexer": "ipython3",
   "version": "3.8.10"
  }
 },
 "nbformat": 4,
 "nbformat_minor": 5
}
