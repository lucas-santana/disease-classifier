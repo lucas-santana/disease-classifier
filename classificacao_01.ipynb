{
 "cells": [
  {
   "cell_type": "markdown",
   "id": "cbc525c0",
   "metadata": {},
   "source": [
    "# Classificaço de Patologias usando Imagens Médicas\n"
   ]
  },
  {
   "cell_type": "markdown",
   "id": "fe5447a1",
   "metadata": {},
   "source": [
    "## Carregar imagens do diretório"
   ]
  },
  {
   "cell_type": "code",
   "execution_count": 1,
   "id": "5ffc0185",
   "metadata": {},
   "outputs": [],
   "source": [
    "import os\n",
    "current_dir = os.path.abspath(os.getcwd())"
   ]
  },
  {
   "cell_type": "markdown",
   "id": "6d9425af",
   "metadata": {},
   "source": [
    "## Converter base de dados para treino, validação e teste"
   ]
  },
  {
   "cell_type": "code",
   "execution_count": 2,
   "id": "89016af1",
   "metadata": {},
   "outputs": [],
   "source": [
    "#cria nova pasta para cachorros e gatos atendendo a estrutura do Keras/Tensorflow\n",
    "folder = \"/oct_2017\"\n",
    "train_folder = current_dir + folder + \"/train\"\n",
    "#val_folder = current_dir + folder + \"/val\"\n",
    "test_folder = current_dir + folder + \"/test\""
   ]
  },
  {
   "cell_type": "markdown",
   "id": "d3e202d5",
   "metadata": {},
   "source": [
    "# Fazer o Tensorflow carregar as imagens para a RNA"
   ]
  },
  {
   "cell_type": "code",
   "execution_count": 3,
   "id": "98c90115",
   "metadata": {},
   "outputs": [
    {
     "name": "stderr",
     "output_type": "stream",
     "text": [
      "2022-05-26 15:10:29.214641: W tensorflow/stream_executor/platform/default/dso_loader.cc:64] Could not load dynamic library 'libcudart.so.11.0'; dlerror: libcudart.so.11.0: cannot open shared object file: No such file or directory\n",
      "2022-05-26 15:10:29.214703: I tensorflow/stream_executor/cuda/cudart_stub.cc:29] Ignore above cudart dlerror if you do not have a GPU set up on your machine.\n"
     ]
    },
    {
     "name": "stdout",
     "output_type": "stream",
     "text": [
      "[]\n",
      "2.6.1\n"
     ]
    },
    {
     "name": "stderr",
     "output_type": "stream",
     "text": [
      "2022-05-26 15:10:37.288835: W tensorflow/stream_executor/platform/default/dso_loader.cc:64] Could not load dynamic library 'libcuda.so.1'; dlerror: libcuda.so.1: cannot open shared object file: No such file or directory\n",
      "2022-05-26 15:10:37.288918: W tensorflow/stream_executor/cuda/cuda_driver.cc:269] failed call to cuInit: UNKNOWN ERROR (303)\n",
      "2022-05-26 15:10:37.288967: I tensorflow/stream_executor/cuda/cuda_diagnostics.cc:156] kernel driver does not appear to be running on this host (pc): /proc/driver/nvidia/version does not exist\n"
     ]
    }
   ],
   "source": [
    "import tensorflow as tf\n",
    "\n",
    "print(tf.config.list_physical_devices('GPU'))\n",
    "print(tf.__version__)"
   ]
  },
  {
   "cell_type": "code",
   "execution_count": 6,
   "id": "b3bfeb7c",
   "metadata": {},
   "outputs": [
    {
     "name": "stdout",
     "output_type": "stream",
     "text": [
      "Found 34931 files belonging to 2 classes.\n",
      "Found 484 files belonging to 2 classes.\n"
     ]
    }
   ],
   "source": [
    "from tensorflow.keras.utils import image_dataset_from_directory\n",
    "#image_dataset_from_directory monta uma estrutura de dados com imagens 180x180 ajustando o peso da rede neural\n",
    "# de 32 em 32 imagens\n",
    "train_dataset = image_dataset_from_directory(train_folder,\n",
    "                                             image_size=(180, 180),\n",
    "                                             batch_size=32)\n",
    "\n",
    "#validation_dataset = image_dataset_from_directory(val_folder,\n",
    "                                                  #image_size=(180, 180),\n",
    "                                                  #batch_size=32)\n",
    "\n",
    "test_dataset = image_dataset_from_directory(test_folder,\n",
    "                                            image_size=(180, 180),\n",
    "                                            batch_size=32)"
   ]
  },
  {
   "cell_type": "code",
   "execution_count": 7,
   "id": "ef30fe2c",
   "metadata": {
    "scrolled": true
   },
   "outputs": [
    {
     "name": "stdout",
     "output_type": "stream",
     "text": [
      "data batch shape: (32, 180, 180, 3)\n",
      "labels batch shape: (32,)\n",
      "(180, 180, 3)\n"
     ]
    }
   ],
   "source": [
    "#\n",
    "for data_batch, labels_batch in train_dataset:\n",
    "    print(\"data batch shape:\", data_batch.shape)\n",
    "    print(\"labels batch shape:\", labels_batch.shape)\n",
    "    print(data_batch[0].shape)\n",
    "    break"
   ]
  },
  {
   "cell_type": "markdown",
   "id": "06f4d8a7",
   "metadata": {},
   "source": [
    "# Treinando o modelo"
   ]
  },
  {
   "cell_type": "code",
   "execution_count": 8,
   "id": "b0d2e3ef",
   "metadata": {},
   "outputs": [],
   "source": [
    "from tensorflow import keras\n",
    "from tensorflow.keras.layers import Conv2D, MaxPooling2D, Flatten, Dense\n",
    "from tensorflow.keras.layers.experimental.preprocessing import Rescaling\n",
    "\n",
    "#cria uma arquitetura de uma rede neural profunda vazia\n",
    "model = keras.Sequential()\n",
    "#model.add(Rescaling(scale=1.0/255))\n",
    "model.add(Conv2D(32, kernel_size=(3, 3), activation='relu', input_shape=(180,180,3)))\n",
    "model.add(MaxPooling2D(pool_size=(2, 2)))\n",
    "model.add(Conv2D(64, kernel_size=(3, 3), activation='relu'))\n",
    "model.add(Flatten())\n",
    "model.add(Dense(1, activation=\"sigmoid\"))\n",
    "model.compile(loss=\"binary_crossentropy\",optimizer=\"adam\",metrics=[\"accuracy\"])\n",
    "#model.add(Dense(4, activation='softmax'))\n",
    "#model.compile(loss='categorical_crossentropy',optimizer='adam', metrics=['accuracy'])"
   ]
  },
  {
   "cell_type": "code",
   "execution_count": 9,
   "id": "fe594e9b",
   "metadata": {
    "scrolled": true
   },
   "outputs": [
    {
     "name": "stdout",
     "output_type": "stream",
     "text": [
      "1092/1092 [==============================] - 345s 315ms/step - loss: 2.2554 - accuracy: 0.7728\n"
     ]
    }
   ],
   "source": [
    "from tensorflow.keras.callbacks import ModelCheckpoint\n",
    "\n",
    "callbacks = [\n",
    "    ModelCheckpoint(\n",
    "        filepath=\"classificacao07.keras\",\n",
    "        save_best_only=True,\n",
    "        monitor=\"loss\"\n",
    "    )\n",
    "]\n",
    "\n",
    "history = model.fit(\n",
    "    train_dataset,\n",
    "    epochs=30,\n",
    "    #validation_data=validation_dataset,\n",
    "    callbacks=callbacks)\n",
    "\n"
   ]
  },
  {
   "cell_type": "code",
   "execution_count": 8,
   "id": "abc4336c",
   "metadata": {},
   "outputs": [
    {
     "name": "stdout",
     "output_type": "stream",
     "text": [
      "Model: \"sequential\"\n",
      "_________________________________________________________________\n",
      "Layer (type)                 Output Shape              Param #   \n",
      "=================================================================\n",
      "conv2d (Conv2D)              (None, 178, 178, 32)      896       \n",
      "_________________________________________________________________\n",
      "max_pooling2d (MaxPooling2D) (None, 89, 89, 32)        0         \n",
      "_________________________________________________________________\n",
      "conv2d_1 (Conv2D)            (None, 87, 87, 64)        18496     \n",
      "_________________________________________________________________\n",
      "flatten (Flatten)            (None, 484416)            0         \n",
      "_________________________________________________________________\n",
      "dense (Dense)                (None, 1)                 484417    \n",
      "=================================================================\n",
      "Total params: 503,809\n",
      "Trainable params: 503,809\n",
      "Non-trainable params: 0\n",
      "_________________________________________________________________\n"
     ]
    }
   ],
   "source": [
    "model.summary()"
   ]
  },
  {
   "cell_type": "code",
   "execution_count": 10,
   "id": "e7ce4280",
   "metadata": {},
   "outputs": [],
   "source": [
    "#https://www.tensorflow.org/js/tutorials/conversion/import_keras?hl=pt-br#alternative_use_the_python_api_to_export_directly_to_tfjs_layers_format\n",
    "import tensorflowjs as tfjs\n",
    "tfjs.converters.save_keras_model(model, \"conversao_01_07\")"
   ]
  },
  {
   "cell_type": "markdown",
   "id": "83105faa",
   "metadata": {},
   "source": [
    "# Visualização de Resultados"
   ]
  },
  {
   "cell_type": "code",
   "execution_count": 11,
   "id": "5678cc42",
   "metadata": {},
   "outputs": [
    {
     "data": {
      "image/png": "[encoded data removed]",
      "text/plain": [
       "<Figure size 432x288 with 1 Axes>"
      ]
     },
     "metadata": {
      "needs_background": "light"
     },
     "output_type": "display_data"
    },
    {
     "data": {
      "image/png": "[encoded data removed]",
      "text/plain": [
       "<Figure size 432x288 with 1 Axes>"
      ]
     },
     "metadata": {
      "needs_background": "light"
     },
     "output_type": "display_data"
    }
   ],
   "source": [
    "import matplotlib.pyplot as plt\n",
    "accuracy = history.history[\"accuracy\"]\n",
    "#val_accuracy = history.history[\"val_accuracy\"]\n",
    "loss = history.history[\"loss\"]\n",
    "#val_loss = history.history[\"val_loss\"]\n",
    "epochs = range(1, len(accuracy) + 1)\n",
    "plt.plot(epochs, accuracy, \"r\", label=\"Treino acc\")\n",
    "#plt.plot(epochs, val_accuracy, \"b\", label=\"Val acc\")\n",
    "plt.xlabel(\"Épocas\")\n",
    "plt.ylabel(\"%s\")\n",
    "plt.title(\"Acurácia de Treino e Validação\")\n",
    "plt.legend()\n",
    "plt.figure()\n",
    "plt.plot(epochs, loss, \"r\", label=\"Treino loss\")\n",
    "#plt.plot(epochs, val_loss, \"b\", label=\"Val loss\")\n",
    "plt.xlabel(\"Épocas\")\n",
    "plt.ylabel(\"%s\")\n",
    "plt.title(\"Loss de Treino e Validação\")\n",
    "plt.legend()\n",
    "plt.show()"
   ]
  },
  {
   "cell_type": "markdown",
   "id": "3b306a97",
   "metadata": {},
   "source": [
    "# Resultados do Conjunto de Teste"
   ]
  },
  {
   "cell_type": "code",
   "execution_count": 11,
   "id": "3a631a70",
   "metadata": {},
   "outputs": [],
   "source": [
    "#from tensorflow import keras\n",
    "#model = keras.models.load_model(\"classificacao01.keras\")\n",
    "# serialize model to JSON\n",
    "#model_json = model.to_json()\n",
    "#with open(\"classificacao01.json\", \"w\") as json_file:json_file.write(model_json)\n",
    "# serialize weights to HDF5\n",
    "#model.save_weights(\"classificacao01.h5\")\n",
    "#print(\"Saved model to disk\")"
   ]
  },
  {
   "cell_type": "code",
   "execution_count": 12,
   "id": "dcf948b2",
   "metadata": {},
   "outputs": [
    {
     "name": "stdout",
     "output_type": "stream",
     "text": [
      "16/16 [==============================] - 2s 60ms/step - loss: 1.2761 - accuracy: 0.7872\n",
      "Test accuracy: 0.787\n"
     ]
    }
   ],
   "source": [
    "test_loss, test_acc = model.evaluate(test_dataset)\n",
    "print(f\"Test accuracy: {test_acc:.3f}\")"
   ]
  },
  {
   "cell_type": "markdown",
   "id": "a0509efa",
   "metadata": {},
   "source": [
    "\n"
   ]
  },
  {
   "cell_type": "code",
   "execution_count": 13,
   "id": "2f2076d5",
   "metadata": {},
   "outputs": [],
   "source": []
  },
  {
   "cell_type": "code",
   "execution_count": null,
   "id": "b9cd6179",
   "metadata": {},
   "outputs": [],
   "source": []
  },
  {
   "cell_type": "code",
   "execution_count": null,
   "id": "08c114c7",
   "metadata": {},
   "outputs": [],
   "source": []
  },
  {
   "cell_type": "markdown",
   "id": "d1f24c41",
   "metadata": {},
   "source": [
    "# Referências\n",
    "\n",
    "* https://machinelearningmastery.com/how-to-develop-a-convolutional-neural-network-to-classify-photos-of-dogs-and-cats/\n",
    "* https://stackoverflow.com/questions/3430372/how-do-i-get-the-full-path-of-the-current-files-directory\n",
    "* https://www.geeksforgeeks.org/python-list-files-in-a-directory/\n",
    "* https://pynative.com/python-random-sample/\n",
    "* https://machinelearningmastery.com/how-to-develop-a-convolutional-neural-network-to-classify-photos-of-dogs-and-cats/\n",
    "* https://www.mygreatlearning.com/blog/keras-tutorial/\n",
    "* https://www.machinecurve.com/index.php/2020/03/30/how-to-use-conv2d-with-keras/\n",
    "* https://www.pyimagesearch.com/2021/06/30/how-to-use-the-modelcheckpoint-callback-with-keras-and-tensorflow/"
   ]
  }
 ],
 "metadata": {
  "kernelspec": {
   "display_name": "Python 3 (ipykernel)",
   "language": "python",
   "name": "python3"
  },
  "language_info": {
   "codemirror_mode": {
    "name": "ipython",
    "version": 3
   },
   "file_extension": ".py",
   "mimetype": "text/x-python",
   "name": "python",
   "nbconvert_exporter": "python",
   "pygments_lexer": "ipython3",
   "version": "3.8.10"
  }
 },
 "nbformat": 4,
 "nbformat_minor": 5
}
