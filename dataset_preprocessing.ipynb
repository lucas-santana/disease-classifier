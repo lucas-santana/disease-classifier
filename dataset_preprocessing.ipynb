{
 "cells": [
  {
   "cell_type": "code",
   "execution_count": null,
   "id": "7e925df8",
   "metadata": {
    "scrolled": true
   },
   "outputs": [],
   "source": [
    "import os\n",
    "import shutil\n",
    "import glob\n",
    "import random\n",
    "from pathlib import Path\n",
    "current_dir = os.path.abspath(os.getcwd())"
   ]
  },
  {
   "cell_type": "code",
   "execution_count": null,
   "id": "d51a4bf6",
   "metadata": {
    "scrolled": true
   },
   "outputs": [],
   "source": [
    "novo_folder = current_dir+\"/novo/\"\n",
    "dataset = current_dir+\"/dataset\"\n",
    "dataset_folder_normal_drusen = dataset+\"/normal_drusen\"\n",
    "\n",
    "#excluir pasta all se já existir\n",
    "if os.path.isdir(dataset):\n",
    "    shutil.rmtree(dataset)\n",
    "    \n",
    "#criar pasta all que irá conter todas as imagens(treino, validacao, test)\n",
    "os.makedirs(dataset_folder_normal_drusen)"
   ]
  },
  {
   "cell_type": "code",
   "execution_count": null,
   "id": "9aa0d6ef",
   "metadata": {},
   "outputs": [],
   "source": [
    "#copiar todas as imagens (treino, validacao, test) para a pasta all\n",
    "for root, dirs, files in os.walk(novo_folder):\n",
    "    for file in files:\n",
    "        path_file = os.path.join(root,file)\n",
    "        shutil.copy2(path_file,dataset_folder_normal_drusen)"
   ]
  },
  {
   "cell_type": "code",
   "execution_count": null,
   "id": "36992a53",
   "metadata": {},
   "outputs": [],
   "source": [
    "#criar as pastas de treinamento e teste para imagens NORMAL e DRUSEN\n",
    "normal_train_folder = dataset+\"/train/NORMAL\"\n",
    "normal_test_folder = dataset+\"/test/NORMAL\"\n",
    "\n",
    "drusen_train_folder = dataset+\"/train/DRUSEN\"\n",
    "drusen_test_folder = dataset+\"/test/DRUSEN\"\n",
    "\n",
    "os.makedirs(normal_train_folder)\n",
    "os.makedirs(normal_test_folder)\n",
    "os.makedirs(drusen_train_folder)\n",
    "os.makedirs(drusen_test_folder)\n"
   ]
  },
  {
   "cell_type": "code",
   "execution_count": null,
   "id": "607af722",
   "metadata": {
    "scrolled": true
   },
   "outputs": [],
   "source": [
    "#Balancear as imagens NORMAL e DRUSEN\n",
    "#separar as imagens em pastas de train e test\n",
    "#10% para imagens de teste e 90% de treinamento\n",
    "\n",
    "percent_test = 0.10\n",
    "\n",
    "def moveImagesToCorrectFolder():\n",
    "    number_files = 8000\n",
    "    #lista dos arquivos onde encontram-se atualmente\n",
    "    normal_files = glob.glob(dataset_folder_normal_drusen+\"/NORMAL-*\")\n",
    "    drusen_files = glob.glob(dataset_folder_normal_drusen+\"/DRUSEN-*\")\n",
    "    \n",
    "    N8K = random.sample(normal_files, number_files)\n",
    "    D8K = random.sample(drusen_files, number_files)\n",
    "    \n",
    "    print(\"Imagens Normal: \"+str(len(N8K)))\n",
    "    print(\"Imagens Drusen: \"+str(len(D8K)))\n",
    "\n",
    "    #para cada imagem normal, mover para a pasta correta\n",
    "    for f in N8K:\n",
    "        rand_val = random.random()\n",
    "        filename = f.split(\"/\")[-1] #de um endereço como C:\\\\modelo\\\\img1.jpg, pega só o img1.jpg\n",
    "        if rand_val <= percent_test: #10% das imagens vão para teste\n",
    "            shutil.move(f, normal_test_folder + \"/\" + filename) \n",
    "        else:\n",
    "            shutil.move(f, normal_train_folder + \"/\" + filename)\n",
    "\n",
    "    #para cada imagem drusen, mover para a pasta correta\n",
    "    for f in D8K:\n",
    "        rand_val = random.random()\n",
    "        filename = f.split(\"/\")[-1] #de um endereço como C:\\\\modelo\\\\img1.jpg, pega só o img1.jpg\n",
    "        if rand_val <= percent_test: #10% das imagens vão para teste\n",
    "            shutil.move(f, drusen_test_folder + \"/\" + filename) \n",
    "        else:\n",
    "            shutil.move(f, drusen_train_folder + \"/\" + filename)\n",
    "        \n",
    "moveImagesToCorrectFolder()\n",
    "shutil.rmtree(dataset_folder_normal_drusen, ignore_errors=True)"
   ]
  },
  {
   "cell_type": "code",
   "execution_count": null,
   "id": "a1a66032",
   "metadata": {
    "scrolled": true
   },
   "outputs": [],
   "source": [
    "# import glob\n",
    "# number_files = 10\n",
    "# train_folder = current_dir+\"/dataset\"+\"/train\"\n",
    "\n",
    "# train_normal_folder = train_folder+\"/NORMAL/\"\n",
    "# normal_img_files = glob.glob(train_normal_folder+\"NORMAL-*\")\n",
    "\n",
    "# train_drusen_folder = train_folder+\"/DRUSEN/\"\n",
    "# drusen_img_files = glob.glob(train_drusen_folder+\"DRUSEN-*\")"
   ]
  },
  {
   "cell_type": "code",
   "execution_count": null,
   "id": "0316a4c4",
   "metadata": {},
   "outputs": [],
   "source": [
    "# import random\n",
    "# N8K = random.sample(normal_img_files, number_files)\n",
    "# D8K = random.sample(drusen_img_files, number_files)"
   ]
  },
  {
   "cell_type": "code",
   "execution_count": null,
   "id": "81c43b49",
   "metadata": {},
   "outputs": [],
   "source": [
    "# import shutil\n",
    "\n",
    "# dst_n8k = train_folder+\"/N8K/\"\n",
    "# if os.path.isdir(dst_n8k):\n",
    "#     shutil.rmtree(dst_n8k)\n",
    "# os.mkdir(dst_n8k)\n",
    "\n",
    "# dst_d8k = train_folder+\"/D8K/\"\n",
    "# if os.path.isdir(dst_d8k):\n",
    "#     shutil.rmtree(dst_d8k)\n",
    "# os.mkdir(dst_d8k)"
   ]
  },
  {
   "cell_type": "code",
   "execution_count": null,
   "id": "a47b22b4",
   "metadata": {},
   "outputs": [],
   "source": [
    "# for n8k_src_path in N8K:    \n",
    "#     shutil.copy2(n8k_src_path, dst_n8k)\n",
    "    \n",
    "# for d8k_src_path in D8K:    \n",
    "#     shutil.copy2(d8k_src_path, dst_d8k)\n"
   ]
  }
 ],
 "metadata": {
  "kernelspec": {
   "display_name": "Python 3 (ipykernel)",
   "language": "python",
   "name": "python3"
  },
  "language_info": {
   "codemirror_mode": {
    "name": "ipython",
    "version": 3
   },
   "file_extension": ".py",
   "mimetype": "text/x-python",
   "name": "python",
   "nbconvert_exporter": "python",
   "pygments_lexer": "ipython3",
   "version": "3.10.4"
  }
 },
 "nbformat": 4,
 "nbformat_minor": 5
}
