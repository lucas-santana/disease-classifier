{
 "cells": [
  {
   "cell_type": "markdown",
   "id": "cbc525c0",
   "metadata": {},
   "source": [
    "# Classificaço de Patologias usando Imagens Médicas\n"
   ]
  },
  {
   "cell_type": "markdown",
   "id": "fe5447a1",
   "metadata": {},
   "source": [
    "## Carregar imagens do diretório\n",
    "### Alterações para realizar testes proposto no email de 20/10/2022"
   ]
  },
  {
   "cell_type": "code",
   "execution_count": null,
   "id": "5ffc0185",
   "metadata": {},
   "outputs": [],
   "source": [
    "import os\n",
    "from datetime import datetime\n",
    "current_dir = os.path.abspath(os.getcwd())\n",
    "n_epoch = 200\n",
    "filepath_name = datetime.today().strftime('%Y%m%d_%H%M%S')\n",
    "model_filepath = \"keras/\"+filepath_name+\".keras\"\n",
    "conversao_path = \"conversao/\"+filepath_name"
   ]
  },
  {
   "cell_type": "markdown",
   "id": "6d9425af",
   "metadata": {},
   "source": [
    "## Converter base de dados para treino, validação e teste"
   ]
  },
  {
   "cell_type": "code",
   "execution_count": null,
   "id": "89016af1",
   "metadata": {},
   "outputs": [],
   "source": [
    "#cria nova pasta para cachorros e gatos atendendo a estrutura do Keras/Tensorflow\n",
    "folder = \"/dataset\"\n",
    "train_folder = current_dir + folder + \"/train\"\n",
    "#val_folder = current_dir + folder + \"/val\"\n",
    "test_folder = current_dir + folder + \"/test\""
   ]
  },
  {
   "cell_type": "markdown",
   "id": "d3e202d5",
   "metadata": {},
   "source": [
    "# Fazer o Tensorflow carregar as imagens para a RNA"
   ]
  },
  {
   "cell_type": "code",
   "execution_count": null,
   "id": "98c90115",
   "metadata": {},
   "outputs": [],
   "source": [
    "import tensorflow as tf\n",
    "\n",
    "print(tf.config.list_physical_devices('GPU'))\n",
    "print(tf.__version__)"
   ]
  },
  {
   "cell_type": "code",
   "execution_count": null,
   "id": "b3bfeb7c",
   "metadata": {},
   "outputs": [],
   "source": [
    "from tensorflow.keras.utils import image_dataset_from_directory\n",
    "#image_dataset_from_directory monta uma estrutura de dados com imagens 180x180 ajustando o peso da rede neural\n",
    "# de 32 em 32 imagens\n",
    "train_dataset = image_dataset_from_directory(train_folder,\n",
    "                                             image_size=(180, 180),\n",
    "                                             batch_size=32)\n",
    "\n",
    "#validation_dataset = image_dataset_from_directory(val_folder,\n",
    "                                                  #image_size=(180, 180),\n",
    "                                                  #batch_size=32)\n",
    "\n",
    "test_dataset = image_dataset_from_directory(test_folder,\n",
    "                                            image_size=(180, 180),\n",
    "                                            batch_size=32)"
   ]
  },
  {
   "cell_type": "code",
   "execution_count": null,
   "id": "ef30fe2c",
   "metadata": {},
   "outputs": [],
   "source": [
    "for data_batch, labels_batch in train_dataset:\n",
    "    print(\"data batch shape:\", data_batch.shape)\n",
    "    print(\"labels batch shape:\", labels_batch.shape)\n",
    "    print(data_batch[0].shape)\n",
    "    break"
   ]
  },
  {
   "cell_type": "markdown",
   "id": "06f4d8a7",
   "metadata": {},
   "source": [
    "# Treinando o modelo"
   ]
  },
  {
   "cell_type": "code",
   "execution_count": null,
   "id": "d68d791b",
   "metadata": {},
   "outputs": [],
   "source": [
    "from tensorflow import keras\n",
    "from tensorflow.keras.layers import Conv2D, MaxPooling2D, Flatten, Dense\n",
    "from tensorflow.keras.layers.experimental.preprocessing import Rescaling\n",
    "from tensorflow.keras.callbacks import ModelCheckpoint\n",
    "from datetime import datetime\n",
    "from tensorflow.keras.callbacks import ModelCheckpoint\n",
    "from datetime import datetime\n",
    "\n",
    "for i in range(100):\n",
    "    print(\"ITERAÇÃO: \"+str(i))\n",
    "    filepath_name = datetime.today().strftime('%Y%m%d_%H%M%S')\n",
    "    model_filepath = \"keras/\"+filepath_name+\".keras\"\n",
    "    \n",
    "    #cria uma arquitetura de uma rede neural profunda vazia\n",
    "    model = keras.Sequential()\n",
    "    \n",
    "    model.add(Conv2D(32, kernel_size=(3, 3), activation='relu', input_shape=(180,180,3)))\n",
    "    model.add(MaxPooling2D(pool_size=(2, 2)))\n",
    "    model.add(Conv2D(64, kernel_size=(3, 3), activation='relu'))\n",
    "    model.add(Flatten())\n",
    "    model.add(Dense(1, activation=\"sigmoid\"))\n",
    "    \n",
    "    model.compile(loss=\"binary_crossentropy\",optimizer=\"adam\",metrics=[\"accuracy\"])\n",
    "    \n",
    "    callbacks = [\n",
    "        ModelCheckpoint(\n",
    "            filepath=model_filepath,\n",
    "            save_best_only=True,\n",
    "            monitor=\"loss\"\n",
    "        )\n",
    "    ]\n",
    "\n",
    "    history = model.fit(\n",
    "        train_dataset,\n",
    "        epochs=n_epoch,\n",
    "        callbacks=callbacks)"
   ]
  },
  {
   "cell_type": "code",
   "execution_count": null,
   "id": "abc4336c",
   "metadata": {},
   "outputs": [],
   "source": [
    "model.summary()"
   ]
  },
  {
   "cell_type": "code",
   "execution_count": null,
   "id": "e7ce4280",
   "metadata": {},
   "outputs": [],
   "source": [
    "#https://www.tensorflow.org/js/tutorials/conversion/import_keras?hl=pt-br#alternative_use_the_python_api_to_export_directly_to_tfjs_layers_format\n",
    "import tensorflowjs as tfjs\n",
    "tfjs.converters.save_keras_model(model, conversao_path)"
   ]
  },
  {
   "cell_type": "markdown",
   "id": "83105faa",
   "metadata": {},
   "source": [
    "# Visualização de Resultados"
   ]
  },
  {
   "cell_type": "code",
   "execution_count": null,
   "id": "5678cc42",
   "metadata": {},
   "outputs": [],
   "source": [
    "# import matplotlib.pyplot as plt\n",
    "# accuracy = history.history[\"accuracy\"]\n",
    "# #val_accuracy = history.history[\"val_accuracy\"]\n",
    "# loss = history.history[\"loss\"]\n",
    "# #val_loss = history.history[\"val_loss\"]\n",
    "# epochs = range(1, len(accuracy) + 1)\n",
    "# plt.plot(epochs, accuracy, \"r\", label=\"Treino acc\")\n",
    "# #plt.plot(epochs, val_accuracy, \"b\", label=\"Val acc\")\n",
    "# plt.xlabel(\"Épocas\")\n",
    "# plt.ylabel(\"%s\")\n",
    "# plt.title(\"Acurácia de Treino e Validação\")\n",
    "# plt.legend()\n",
    "# plt.figure()\n",
    "# plt.plot(epochs, loss, \"r\", label=\"Treino loss\")\n",
    "# #plt.plot(epochs, val_loss, \"b\", label=\"Val loss\")\n",
    "# plt.xlabel(\"Épocas\")\n",
    "# plt.ylabel(\"%s\")\n",
    "# plt.title(\"Loss de Treino e Validação\")\n",
    "# plt.legend()\n",
    "# plt.show()"
   ]
  },
  {
   "cell_type": "markdown",
   "id": "3b306a97",
   "metadata": {},
   "source": [
    "# Resultados do Conjunto de Teste"
   ]
  },
  {
   "cell_type": "code",
   "execution_count": null,
   "id": "3a631a70",
   "metadata": {},
   "outputs": [],
   "source": [
    "#from tensorflow import keras\n",
    "#model = keras.models.load_model(\"classificacao01.keras\")\n",
    "# serialize model to JSON\n",
    "#model_json = model.to_json()\n",
    "#with open(\"classificacao01.json\", \"w\") as json_file:json_file.write(model_json)\n",
    "# serialize weights to HDF5\n",
    "#model.save_weights(\"classificacao01.h5\")\n",
    "#print(\"Saved model to disk\")"
   ]
  },
  {
   "cell_type": "code",
   "execution_count": null,
   "id": "dcf948b2",
   "metadata": {},
   "outputs": [],
   "source": [
    "test_loss, test_acc = model.evaluate(test_dataset)\n",
    "print(f\"Test accuracy: {test_acc:.3f}\")"
   ]
  },
  {
   "cell_type": "markdown",
   "id": "a0509efa",
   "metadata": {},
   "source": [
    "\n"
   ]
  },
  {
   "cell_type": "markdown",
   "id": "d1f24c41",
   "metadata": {},
   "source": [
    "# Referências\n",
    "\n",
    "* https://machinelearningmastery.com/how-to-develop-a-convolutional-neural-network-to-classify-photos-of-dogs-and-cats/\n",
    "* https://stackoverflow.com/questions/3430372/how-do-i-get-the-full-path-of-the-current-files-directory\n",
    "* https://www.geeksforgeeks.org/python-list-files-in-a-directory/\n",
    "* https://pynative.com/python-random-sample/\n",
    "* https://machinelearningmastery.com/how-to-develop-a-convolutional-neural-network-to-classify-photos-of-dogs-and-cats/\n",
    "* https://www.mygreatlearning.com/blog/keras-tutorial/\n",
    "* https://www.machinecurve.com/index.php/2020/03/30/how-to-use-conv2d-with-keras/\n",
    "* https://www.pyimagesearch.com/2021/06/30/how-to-use-the-modelcheckpoint-callback-with-keras-and-tensorflow/"
   ]
  }
 ],
 "metadata": {
  "kernelspec": {
   "display_name": "Python 3 (ipykernel)",
   "language": "python",
   "name": "python3"
  },
  "language_info": {
   "codemirror_mode": {
    "name": "ipython",
    "version": 3
   },
   "file_extension": ".py",
   "mimetype": "text/x-python",
   "name": "python",
   "nbconvert_exporter": "python",
   "pygments_lexer": "ipython3",
   "version": "3.8.10"
  }
 },
 "nbformat": 4,
 "nbformat_minor": 5
}
