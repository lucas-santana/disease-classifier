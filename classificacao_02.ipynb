{
 "cells": [
  {
   "cell_type": "markdown",
   "id": "cbc525c0",
   "metadata": {},
   "source": [
    "# Classificaço de Patologias usando Imagens Médicas\n"
   ]
  },
  {
   "cell_type": "markdown",
   "id": "fe5447a1",
   "metadata": {},
   "source": [
    "## Carregar imagens do diretório"
   ]
  },
  {
   "cell_type": "code",
   "execution_count": 37,
   "id": "5ffc0185",
   "metadata": {
    "scrolled": false
   },
   "outputs": [],
   "source": [
    "import os\n",
    "current_dir = os.path.abspath(os.getcwd())"
   ]
  },
  {
   "cell_type": "markdown",
   "id": "6d9425af",
   "metadata": {},
   "source": [
    "## Converter base de dados para treino, validação e teste"
   ]
  },
  {
   "cell_type": "code",
   "execution_count": 38,
   "id": "89016af1",
   "metadata": {
    "scrolled": false
   },
   "outputs": [],
   "source": [
    "#cria nova pasta para cachorros e gatos atendendo a estrutura do Keras/Tensorflow\n",
    "folder = \"/novo\"\n",
    "train_folder = current_dir + folder + \"/train\"\n",
    "val_folder = current_dir + folder + \"/val\"\n",
    "test_folder = current_dir + folder + \"/test\"\n",
    "\n",
    "model_filepath = \"keras/classificacao_02_06.keras\"\n",
    "conversao_path = \"conversao/conversao_02_06\""
   ]
  },
  {
   "cell_type": "markdown",
   "id": "d3e202d5",
   "metadata": {},
   "source": [
    "# Fazer o Tensorflow carregar as imagens para a RNA"
   ]
  },
  {
   "cell_type": "code",
   "execution_count": 39,
   "id": "98c90115",
   "metadata": {
    "scrolled": false
   },
   "outputs": [
    {
     "name": "stdout",
     "output_type": "stream",
     "text": [
      "[]\n",
      "2.6.1\n"
     ]
    }
   ],
   "source": [
    "import tensorflow as tf\n",
    "\n",
    "print(tf.config.list_physical_devices('GPU'))\n",
    "print(tf.__version__)"
   ]
  },
  {
   "cell_type": "code",
   "execution_count": 40,
   "id": "b3bfeb7c",
   "metadata": {
    "scrolled": false
   },
   "outputs": [
    {
     "name": "stdout",
     "output_type": "stream",
     "text": [
      "Found 34931 files belonging to 2 classes.\n",
      "Found 16 files belonging to 2 classes.\n",
      "Found 484 files belonging to 2 classes.\n"
     ]
    }
   ],
   "source": [
    "from tensorflow.keras.utils import image_dataset_from_directory\n",
    "#image_dataset_from_directory monta uma estrutura de dados com imagens 180x180 ajustando o peso da rede neural\n",
    "# de 32 em 32 imagens\n",
    "train_dataset = image_dataset_from_directory(train_folder, image_size=(180, 180), batch_size=32)\n",
    "\n",
    "validation_dataset = image_dataset_from_directory(val_folder,image_size=(180, 180),batch_size=32)\n",
    "\n",
    "test_dataset = image_dataset_from_directory(test_folder, image_size=(180, 180),batch_size=32)"
   ]
  },
  {
   "cell_type": "code",
   "execution_count": 41,
   "id": "ef30fe2c",
   "metadata": {
    "scrolled": true
   },
   "outputs": [
    {
     "name": "stdout",
     "output_type": "stream",
     "text": [
      "data batch shape: (32, 180, 180, 3)\n",
      "labels batch shape: (32,)\n",
      "(180, 180, 3)\n"
     ]
    }
   ],
   "source": [
    "#\n",
    "for data_batch, labels_batch in train_dataset:\n",
    "    print(\"data batch shape:\", data_batch.shape)\n",
    "    print(\"labels batch shape:\", labels_batch.shape)\n",
    "    print(data_batch[0].shape)\n",
    "    break"
   ]
  },
  {
   "cell_type": "markdown",
   "id": "06f4d8a7",
   "metadata": {},
   "source": [
    "# Treinando o modelo"
   ]
  },
  {
   "cell_type": "code",
   "execution_count": 42,
   "id": "b0d2e3ef",
   "metadata": {
    "scrolled": false
   },
   "outputs": [],
   "source": [
    "from tensorflow import keras\n",
    "from tensorflow.keras.layers import Conv2D, MaxPooling2D, Flatten, Dense\n",
    "from tensorflow.keras.layers.experimental.preprocessing import Rescaling\n",
    "\n",
    "#cria uma arquitetura de uma rede neural profunda vazia\n",
    "model = keras.Sequential()\n",
    "model.add(Rescaling(scale=1.0/255))\n",
    "model.add(Conv2D(32, kernel_size=(3, 3), activation='relu'))\n",
    "model.add(MaxPooling2D(pool_size=(2, 2)))\n",
    "model.add(Conv2D(64, kernel_size=(3, 3), activation='relu'))\n",
    "model.add(Flatten())\n",
    "model.add(Dense(1, activation=\"sigmoid\"))\n",
    "model.compile(loss=\"binary_crossentropy\",optimizer=\"adam\",metrics=[\"accuracy\"])\n",
    "#model.add(Dense(4, activation='softmax'))\n",
    "#model.compile(loss='categorical_crossentropy',optimizer='adam', metrics=['accuracy'])"
   ]
  },
  {
   "cell_type": "code",
   "execution_count": 43,
   "id": "fe594e9b",
   "metadata": {
    "scrolled": true
   },
   "outputs": [
    {
     "name": "stdout",
     "output_type": "stream",
     "text": [
      "Epoch 1/50\n",
      "1092/1092 [==============================] - 370s 338ms/step - loss: 0.4402 - accuracy: 0.8030 - val_loss: 0.2502 - val_accuracy: 0.9375\n",
      "Epoch 2/50\n",
      "1092/1092 [==============================] - 354s 324ms/step - loss: 0.2940 - accuracy: 0.8835 - val_loss: 0.1336 - val_accuracy: 1.0000\n",
      "Epoch 3/50\n",
      "1092/1092 [==============================] - 369s 338ms/step - loss: 0.2487 - accuracy: 0.9063 - val_loss: 0.0828 - val_accuracy: 1.0000\n",
      "Epoch 4/50\n",
      "1092/1092 [==============================] - 349s 320ms/step - loss: 0.2083 - accuracy: 0.9243 - val_loss: 0.0422 - val_accuracy: 1.0000\n",
      "Epoch 5/50\n",
      "1092/1092 [==============================] - 352s 322ms/step - loss: 0.1607 - accuracy: 0.9441 - val_loss: 0.2115 - val_accuracy: 0.9375\n",
      "Epoch 6/50\n",
      "1092/1092 [==============================] - 362s 331ms/step - loss: 0.1108 - accuracy: 0.9624 - val_loss: 0.1343 - val_accuracy: 0.9375\n",
      "Epoch 7/50\n",
      "1092/1092 [==============================] - 356s 326ms/step - loss: 0.0682 - accuracy: 0.9784 - val_loss: 0.1117 - val_accuracy: 0.9375\n",
      "Epoch 8/50\n",
      "1092/1092 [==============================] - 328s 300ms/step - loss: 0.0390 - accuracy: 0.9879 - val_loss: 0.0109 - val_accuracy: 1.0000\n",
      "Epoch 9/50\n",
      "1092/1092 [==============================] - 325s 298ms/step - loss: 0.0237 - accuracy: 0.9932 - val_loss: 0.0050 - val_accuracy: 1.0000\n",
      "Epoch 10/50\n",
      "1092/1092 [==============================] - 326s 298ms/step - loss: 0.0167 - accuracy: 0.9952 - val_loss: 1.7613e-04 - val_accuracy: 1.0000\n",
      "Epoch 11/50\n",
      "1092/1092 [==============================] - 343s 314ms/step - loss: 0.0119 - accuracy: 0.9969 - val_loss: 0.1054 - val_accuracy: 0.9375\n",
      "Epoch 12/50\n",
      "1092/1092 [==============================] - 352s 322ms/step - loss: 0.0094 - accuracy: 0.9975 - val_loss: 3.1622e-04 - val_accuracy: 1.0000\n",
      "Epoch 13/50\n",
      "1092/1092 [==============================] - 346s 317ms/step - loss: 0.0132 - accuracy: 0.9962 - val_loss: 0.0017 - val_accuracy: 1.0000\n",
      "Epoch 14/50\n",
      "1092/1092 [==============================] - 349s 319ms/step - loss: 0.0113 - accuracy: 0.9966 - val_loss: 0.0386 - val_accuracy: 1.0000\n",
      "Epoch 15/50\n",
      "1092/1092 [==============================] - 354s 324ms/step - loss: 0.0099 - accuracy: 0.9972 - val_loss: 0.2162 - val_accuracy: 0.8750\n",
      "Epoch 16/50\n",
      "1092/1092 [==============================] - 356s 326ms/step - loss: 0.0076 - accuracy: 0.9981 - val_loss: 3.9273e-04 - val_accuracy: 1.0000\n",
      "Epoch 17/50\n",
      "1092/1092 [==============================] - 356s 325ms/step - loss: 0.0079 - accuracy: 0.9975 - val_loss: 0.0736 - val_accuracy: 0.9375\n",
      "Epoch 18/50\n",
      "1092/1092 [==============================] - 353s 322ms/step - loss: 0.0098 - accuracy: 0.9971 - val_loss: 0.0027 - val_accuracy: 1.0000\n",
      "Epoch 19/50\n",
      "1092/1092 [==============================] - 346s 315ms/step - loss: 0.0071 - accuracy: 0.9981 - val_loss: 0.0107 - val_accuracy: 1.0000\n",
      "Epoch 20/50\n",
      "1092/1092 [==============================] - 347s 318ms/step - loss: 0.0076 - accuracy: 0.9979 - val_loss: 2.2447e-04 - val_accuracy: 1.0000\n",
      "Epoch 21/50\n",
      "1092/1092 [==============================] - 348s 319ms/step - loss: 0.0071 - accuracy: 0.9984 - val_loss: 3.4981e-04 - val_accuracy: 1.0000\n",
      "Epoch 22/50\n",
      "1092/1092 [==============================] - 350s 320ms/step - loss: 0.0065 - accuracy: 0.9987 - val_loss: 0.0069 - val_accuracy: 1.0000\n",
      "Epoch 23/50\n",
      "1092/1092 [==============================] - 361s 330ms/step - loss: 0.0071 - accuracy: 0.9981 - val_loss: 5.3955e-05 - val_accuracy: 1.0000\n",
      "Epoch 24/50\n",
      "1092/1092 [==============================] - 358s 328ms/step - loss: 0.0065 - accuracy: 0.9989 - val_loss: 7.2903e-04 - val_accuracy: 1.0000\n",
      "Epoch 25/50\n",
      "1092/1092 [==============================] - 356s 324ms/step - loss: 0.0077 - accuracy: 0.9983 - val_loss: 0.0011 - val_accuracy: 1.0000\n",
      "Epoch 26/50\n",
      "1092/1092 [==============================] - 347s 318ms/step - loss: 0.0051 - accuracy: 0.9990 - val_loss: 4.3147e-04 - val_accuracy: 1.0000\n",
      "Epoch 27/50\n",
      "1092/1092 [==============================] - 348s 318ms/step - loss: 0.0048 - accuracy: 0.9991 - val_loss: 2.6674e-04 - val_accuracy: 1.0000\n",
      "Epoch 28/50\n",
      "1092/1092 [==============================] - 350s 321ms/step - loss: 0.0060 - accuracy: 0.9991 - val_loss: 6.9639e-04 - val_accuracy: 1.0000\n",
      "Epoch 29/50\n",
      "1092/1092 [==============================] - 341s 311ms/step - loss: 0.0048 - accuracy: 0.9988 - val_loss: 0.1343 - val_accuracy: 0.9375\n",
      "Epoch 30/50\n",
      "1092/1092 [==============================] - 341s 311ms/step - loss: 0.0039 - accuracy: 0.9993 - val_loss: 0.0026 - val_accuracy: 1.0000\n",
      "Epoch 31/50\n",
      "1092/1092 [==============================] - 341s 312ms/step - loss: 0.0062 - accuracy: 0.9983 - val_loss: 0.0115 - val_accuracy: 1.0000\n",
      "Epoch 32/50\n",
      "1092/1092 [==============================] - 346s 316ms/step - loss: 0.0050 - accuracy: 0.9989 - val_loss: 0.0193 - val_accuracy: 1.0000\n",
      "Epoch 33/50\n",
      "1092/1092 [==============================] - 346s 316ms/step - loss: 0.0039 - accuracy: 0.9993 - val_loss: 0.0469 - val_accuracy: 0.9375\n",
      "Epoch 34/50\n",
      "1092/1092 [==============================] - 329s 300ms/step - loss: 0.0050 - accuracy: 0.9989 - val_loss: 7.2636e-04 - val_accuracy: 1.0000\n",
      "Epoch 35/50\n",
      "1092/1092 [==============================] - 338s 308ms/step - loss: 0.0046 - accuracy: 0.9990 - val_loss: 1.4807e-04 - val_accuracy: 1.0000\n",
      "Epoch 36/50\n",
      "1092/1092 [==============================] - 340s 311ms/step - loss: 0.0053 - accuracy: 0.9992 - val_loss: 0.0164 - val_accuracy: 1.0000\n",
      "Epoch 37/50\n",
      "1092/1092 [==============================] - 332s 303ms/step - loss: 0.0049 - accuracy: 0.9991 - val_loss: 0.1760 - val_accuracy: 0.9375\n",
      "Epoch 38/50\n",
      "1092/1092 [==============================] - 338s 309ms/step - loss: 0.0058 - accuracy: 0.9989 - val_loss: 9.1092e-04 - val_accuracy: 1.0000\n",
      "Epoch 39/50\n",
      "1092/1092 [==============================] - 366s 336ms/step - loss: 0.0048 - accuracy: 0.9993 - val_loss: 1.5977e-05 - val_accuracy: 1.0000\n",
      "Epoch 40/50\n",
      "1092/1092 [==============================] - 367s 336ms/step - loss: 0.0054 - accuracy: 0.9990 - val_loss: 0.0085 - val_accuracy: 1.0000\n",
      "Epoch 41/50\n",
      "1092/1092 [==============================] - 345s 316ms/step - loss: 0.0044 - accuracy: 0.9990 - val_loss: 5.6202e-06 - val_accuracy: 1.0000\n",
      "Epoch 42/50\n",
      "1092/1092 [==============================] - 348s 318ms/step - loss: 0.0056 - accuracy: 0.9989 - val_loss: 5.3802e-05 - val_accuracy: 1.0000\n",
      "Epoch 43/50\n",
      "1092/1092 [==============================] - 353s 323ms/step - loss: 0.0050 - accuracy: 0.9990 - val_loss: 1.1488e-04 - val_accuracy: 1.0000\n",
      "Epoch 44/50\n",
      "1092/1092 [==============================] - 328s 300ms/step - loss: 0.0048 - accuracy: 0.9991 - val_loss: 6.1955e-05 - val_accuracy: 1.0000\n",
      "Epoch 45/50\n",
      "1092/1092 [==============================] - 337s 309ms/step - loss: 0.0027 - accuracy: 0.9996 - val_loss: 9.7290e-05 - val_accuracy: 1.0000\n",
      "Epoch 46/50\n",
      "1092/1092 [==============================] - 331s 303ms/step - loss: 0.0037 - accuracy: 0.9993 - val_loss: 0.0442 - val_accuracy: 0.9375\n",
      "Epoch 47/50\n",
      "1092/1092 [==============================] - 339s 310ms/step - loss: 0.0024 - accuracy: 0.9997 - val_loss: 0.0015 - val_accuracy: 1.0000\n",
      "Epoch 48/50\n",
      "1092/1092 [==============================] - 339s 310ms/step - loss: 0.0044 - accuracy: 0.9993 - val_loss: 5.0210e-04 - val_accuracy: 1.0000\n",
      "Epoch 49/50\n",
      "1092/1092 [==============================] - 339s 310ms/step - loss: 0.0029 - accuracy: 0.9996 - val_loss: 2.9255e-04 - val_accuracy: 1.0000\n",
      "Epoch 50/50\n",
      "1092/1092 [==============================] - 339s 310ms/step - loss: 0.0047 - accuracy: 0.9993 - val_loss: 5.1547e-06 - val_accuracy: 1.0000\n"
     ]
    }
   ],
   "source": [
    "from tensorflow.keras.callbacks import ModelCheckpoint\n",
    "\n",
    "callbacks = [\n",
    "    ModelCheckpoint(\n",
    "        filepath = model_filepath,\n",
    "        save_best_only = True,\n",
    "        monitor = \"val_loss\"\n",
    "    )\n",
    "]\n",
    "\n",
    "history = model.fit(\n",
    "    train_dataset,\n",
    "    epochs=50,\n",
    "    validation_data=validation_dataset,\n",
    "    callbacks=callbacks)\n",
    "\n"
   ]
  },
  {
   "cell_type": "code",
   "execution_count": 44,
   "id": "abc4336c",
   "metadata": {
    "scrolled": false
   },
   "outputs": [
    {
     "name": "stdout",
     "output_type": "stream",
     "text": [
      "Model: \"sequential_3\"\n",
      "_________________________________________________________________\n",
      "Layer (type)                 Output Shape              Param #   \n",
      "=================================================================\n",
      "rescaling_3 (Rescaling)      (None, 180, 180, 3)       0         \n",
      "_________________________________________________________________\n",
      "conv2d_6 (Conv2D)            (None, 178, 178, 32)      896       \n",
      "_________________________________________________________________\n",
      "max_pooling2d_3 (MaxPooling2 (None, 89, 89, 32)        0         \n",
      "_________________________________________________________________\n",
      "conv2d_7 (Conv2D)            (None, 87, 87, 64)        18496     \n",
      "_________________________________________________________________\n",
      "flatten_3 (Flatten)          (None, 484416)            0         \n",
      "_________________________________________________________________\n",
      "dense_3 (Dense)              (None, 1)                 484417    \n",
      "=================================================================\n",
      "Total params: 503,809\n",
      "Trainable params: 503,809\n",
      "Non-trainable params: 0\n",
      "_________________________________________________________________\n"
     ]
    }
   ],
   "source": [
    "model.summary()"
   ]
  },
  {
   "cell_type": "code",
   "execution_count": 45,
   "id": "e7ce4280",
   "metadata": {
    "scrolled": false
   },
   "outputs": [],
   "source": [
    "#https://www.tensorflow.org/js/tutorials/conversion/import_keras?hl=pt-br#alternative_use_the_python_api_to_export_directly_to_tfjs_layers_format\n",
    "import tensorflowjs as tfjs\n",
    "tfjs.converters.save_keras_model(model, conversao_path)"
   ]
  },
  {
   "cell_type": "markdown",
   "id": "83105faa",
   "metadata": {},
   "source": [
    "# Visualização de Resultados"
   ]
  },
  {
   "cell_type": "code",
   "execution_count": 46,
   "id": "5678cc42",
   "metadata": {
    "scrolled": false
   },
   "outputs": [
    {
     "data": {
      "image/png": "[encoded data removed]",
      "text/plain": [
       "<Figure size 432x288 with 1 Axes>"
      ]
     },
     "metadata": {
      "needs_background": "light"
     },
     "output_type": "display_data"
    },
    {
     "data": {
      "image/png": "[encoded data removed]",
      "text/plain": [
       "<Figure size 432x288 with 1 Axes>"
      ]
     },
     "metadata": {
      "needs_background": "light"
     },
     "output_type": "display_data"
    }
   ],
   "source": [
    "import matplotlib.pyplot as plt\n",
    "accuracy = history.history[\"accuracy\"]\n",
    "val_accuracy = history.history[\"val_accuracy\"]\n",
    "loss = history.history[\"loss\"]\n",
    "val_loss = history.history[\"val_loss\"]\n",
    "epochs = range(1, len(accuracy) + 1)\n",
    "plt.plot(epochs, accuracy, \"r\", label=\"Treino acc\")\n",
    "plt.plot(epochs, val_accuracy, \"b\", label=\"Val acc\")\n",
    "plt.xlabel(\"Épocas\")\n",
    "plt.ylabel(\"%s\")\n",
    "plt.title(\"Acurácia de Treino e Validação\")\n",
    "plt.legend()\n",
    "plt.figure()\n",
    "plt.plot(epochs, loss, \"r\", label=\"Treino loss\")\n",
    "plt.plot(epochs, val_loss, \"b\", label=\"Val loss\")\n",
    "plt.xlabel(\"Épocas\")\n",
    "plt.ylabel(\"%s\")\n",
    "plt.title(\"Loss de Treino e Validação\")\n",
    "plt.legend()\n",
    "plt.show()"
   ]
  },
  {
   "cell_type": "markdown",
   "id": "3b306a97",
   "metadata": {},
   "source": [
    "# Resultados do Conjunto de Teste"
   ]
  },
  {
   "cell_type": "code",
   "execution_count": 47,
   "id": "3a631a70",
   "metadata": {
    "scrolled": false
   },
   "outputs": [],
   "source": [
    "from tensorflow import keras\n",
    "model = keras.models.load_model(model_filepath)"
   ]
  },
  {
   "cell_type": "code",
   "execution_count": 48,
   "id": "dcf948b2",
   "metadata": {
    "scrolled": false
   },
   "outputs": [
    {
     "name": "stdout",
     "output_type": "stream",
     "text": [
      "16/16 [==============================] - 3s 63ms/step - loss: 0.0212 - accuracy: 0.9938\n",
      "Test accuracy: 0.994\n"
     ]
    }
   ],
   "source": [
    "test_loss, test_acc = model.evaluate(test_dataset)\n",
    "print(f\"Test accuracy: {test_acc:.3f}\")"
   ]
  },
  {
   "cell_type": "markdown",
   "id": "a0509efa",
   "metadata": {},
   "source": [
    "\n"
   ]
  },
  {
   "cell_type": "markdown",
   "id": "d1f24c41",
   "metadata": {},
   "source": [
    "# Referências\n",
    "\n",
    "* https://machinelearningmastery.com/how-to-develop-a-convolutional-neural-network-to-classify-photos-of-dogs-and-cats/\n",
    "* https://stackoverflow.com/questions/3430372/how-do-i-get-the-full-path-of-the-current-files-directory\n",
    "* https://www.geeksforgeeks.org/python-list-files-in-a-directory/\n",
    "* https://pynative.com/python-random-sample/\n",
    "* https://machinelearningmastery.com/how-to-develop-a-convolutional-neural-network-to-classify-photos-of-dogs-and-cats/\n",
    "* https://www.mygreatlearning.com/blog/keras-tutorial/\n",
    "* https://www.machinecurve.com/index.php/2020/03/30/how-to-use-conv2d-with-keras/\n",
    "* https://www.pyimagesearch.com/2021/06/30/how-to-use-the-modelcheckpoint-callback-with-keras-and-tensorflow/"
   ]
  }
 ],
 "metadata": {
  "kernelspec": {
   "display_name": "Python 3 (ipykernel)",
   "language": "python",
   "name": "python3"
  },
  "language_info": {
   "codemirror_mode": {
    "name": "ipython",
    "version": 3
   },
   "file_extension": ".py",
   "mimetype": "text/x-python",
   "name": "python",
   "nbconvert_exporter": "python",
   "pygments_lexer": "ipython3",
   "version": "3.8.10"
  }
 },
 "nbformat": 4,
 "nbformat_minor": 5
}
