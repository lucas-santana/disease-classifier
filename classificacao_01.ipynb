{
 "cells": [
  {
   "cell_type": "markdown",
   "id": "cbc525c0",
   "metadata": {},
   "source": [
    "# Classificaço de Patologias usando Imagens Médicas\n"
   ]
  },
  {
   "cell_type": "markdown",
   "id": "fe5447a1",
   "metadata": {},
   "source": [
    "## Carregar imagens do diretório"
   ]
  },
  {
   "cell_type": "code",
   "execution_count": 1,
   "id": "5ffc0185",
   "metadata": {},
   "outputs": [],
   "source": [
    "import os\n",
    "current_dir = os.path.abspath(os.getcwd())"
   ]
  },
  {
   "cell_type": "markdown",
   "id": "6d9425af",
   "metadata": {},
   "source": [
    "## Converter base de dados para treino, validação e teste"
   ]
  },
  {
   "cell_type": "code",
   "execution_count": 2,
   "id": "89016af1",
   "metadata": {},
   "outputs": [],
   "source": [
    "#cria nova pasta para cachorros e gatos atendendo a estrutura do Keras/Tensorflow\n",
    "folder = \"/novo\"\n",
    "train_folder = current_dir + folder + \"/train\"\n",
    "#val_folder = current_dir + folder + \"/val\"\n",
    "test_folder = current_dir + folder + \"/test\""
   ]
  },
  {
   "cell_type": "markdown",
   "id": "d3e202d5",
   "metadata": {},
   "source": [
    "# Fazer o Tensorflow carregar as imagens para a RNA"
   ]
  },
  {
   "cell_type": "code",
   "execution_count": 3,
   "id": "98c90115",
   "metadata": {},
   "outputs": [
    {
     "name": "stderr",
     "output_type": "stream",
     "text": [
      "2022-06-27 20:33:38.134848: W tensorflow/stream_executor/platform/default/dso_loader.cc:64] Could not load dynamic library 'libcudart.so.11.0'; dlerror: libcudart.so.11.0: cannot open shared object file: No such file or directory\n",
      "2022-06-27 20:33:38.134872: I tensorflow/stream_executor/cuda/cudart_stub.cc:29] Ignore above cudart dlerror if you do not have a GPU set up on your machine.\n"
     ]
    },
    {
     "name": "stdout",
     "output_type": "stream",
     "text": [
      "[]\n",
      "2.6.1\n"
     ]
    },
    {
     "name": "stderr",
     "output_type": "stream",
     "text": [
      "2022-06-27 20:33:47.536036: W tensorflow/stream_executor/platform/default/dso_loader.cc:64] Could not load dynamic library 'libcuda.so.1'; dlerror: libcuda.so.1: cannot open shared object file: No such file or directory\n",
      "2022-06-27 20:33:47.536103: W tensorflow/stream_executor/cuda/cuda_driver.cc:269] failed call to cuInit: UNKNOWN ERROR (303)\n",
      "2022-06-27 20:33:47.536149: I tensorflow/stream_executor/cuda/cuda_diagnostics.cc:156] kernel driver does not appear to be running on this host (pc): /proc/driver/nvidia/version does not exist\n"
     ]
    }
   ],
   "source": [
    "import tensorflow as tf\n",
    "\n",
    "print(tf.config.list_physical_devices('GPU'))\n",
    "print(tf.__version__)"
   ]
  },
  {
   "cell_type": "code",
   "execution_count": 4,
   "id": "b3bfeb7c",
   "metadata": {},
   "outputs": [
    {
     "name": "stdout",
     "output_type": "stream",
     "text": [
      "Found 34931 files belonging to 2 classes.\n",
      "Found 484 files belonging to 2 classes.\n"
     ]
    },
    {
     "name": "stderr",
     "output_type": "stream",
     "text": [
      "2022-06-27 20:33:49.402272: I tensorflow/core/platform/cpu_feature_guard.cc:142] This TensorFlow binary is optimized with oneAPI Deep Neural Network Library (oneDNN) to use the following CPU instructions in performance-critical operations:  AVX2 FMA\n",
      "To enable them in other operations, rebuild TensorFlow with the appropriate compiler flags.\n"
     ]
    }
   ],
   "source": [
    "from tensorflow.keras.utils import image_dataset_from_directory\n",
    "#image_dataset_from_directory monta uma estrutura de dados com imagens 180x180 ajustando o peso da rede neural\n",
    "# de 32 em 32 imagens\n",
    "train_dataset = image_dataset_from_directory(train_folder,\n",
    "                                             image_size=(180, 180),\n",
    "                                             batch_size=32)\n",
    "\n",
    "#validation_dataset = image_dataset_from_directory(val_folder,\n",
    "                                                  #image_size=(180, 180),\n",
    "                                                  #batch_size=32)\n",
    "\n",
    "test_dataset = image_dataset_from_directory(test_folder,\n",
    "                                            image_size=(180, 180),\n",
    "                                            batch_size=32)"
   ]
  },
  {
   "cell_type": "code",
   "execution_count": 5,
   "id": "ef30fe2c",
   "metadata": {
    "scrolled": true
   },
   "outputs": [
    {
     "name": "stderr",
     "output_type": "stream",
     "text": [
      "2022-06-27 20:33:49.566476: I tensorflow/compiler/mlir/mlir_graph_optimization_pass.cc:185] None of the MLIR Optimization Passes are enabled (registered 2)\n"
     ]
    },
    {
     "name": "stdout",
     "output_type": "stream",
     "text": [
      "data batch shape: (32, 180, 180, 3)\n",
      "labels batch shape: (32,)\n",
      "(180, 180, 3)\n"
     ]
    }
   ],
   "source": [
    "#\n",
    "for data_batch, labels_batch in train_dataset:\n",
    "    print(\"data batch shape:\", data_batch.shape)\n",
    "    print(\"labels batch shape:\", labels_batch.shape)\n",
    "    print(data_batch[0].shape)\n",
    "    break"
   ]
  },
  {
   "cell_type": "markdown",
   "id": "06f4d8a7",
   "metadata": {},
   "source": [
    "# Treinando o modelo"
   ]
  },
  {
   "cell_type": "code",
   "execution_count": 6,
   "id": "b0d2e3ef",
   "metadata": {},
   "outputs": [],
   "source": [
    "from tensorflow import keras\n",
    "from tensorflow.keras.layers import Conv2D, MaxPooling2D, Flatten, Dense\n",
    "from tensorflow.keras.layers.experimental.preprocessing import Rescaling\n",
    "\n",
    "#cria uma arquitetura de uma rede neural profunda vazia\n",
    "model = keras.Sequential()\n",
    "#model.add(Rescaling(scale=1.0/255))\n",
    "model.add(Conv2D(32, kernel_size=(3, 3), activation='relu', input_shape=(180,180,3)))\n",
    "model.add(MaxPooling2D(pool_size=(2, 2)))\n",
    "model.add(Conv2D(64, kernel_size=(3, 3), activation='relu'))\n",
    "model.add(Flatten())\n",
    "model.add(Dense(1, activation=\"sigmoid\"))\n",
    "model.compile(loss=\"binary_crossentropy\",optimizer=\"adam\",metrics=[\"accuracy\"])\n",
    "#model.add(Dense(4, activation='softmax'))\n",
    "#model.compile(loss='categorical_crossentropy',optimizer='adam', metrics=['accuracy'])"
   ]
  },
  {
   "cell_type": "code",
   "execution_count": 7,
   "id": "fe594e9b",
   "metadata": {
    "scrolled": true
   },
   "outputs": [
    {
     "name": "stdout",
     "output_type": "stream",
     "text": [
      "Epoch 1/100\n",
      "1092/1092 [==============================] - 332s 303ms/step - loss: 2.6374 - accuracy: 0.7511\n",
      "Epoch 2/100\n",
      "1092/1092 [==============================] - 324s 296ms/step - loss: 0.3514 - accuracy: 0.8476\n",
      "Epoch 3/100\n",
      "1092/1092 [==============================] - 323s 296ms/step - loss: 0.3081 - accuracy: 0.8801\n",
      "Epoch 4/100\n",
      "1092/1092 [==============================] - 323s 295ms/step - loss: 0.2716 - accuracy: 0.8957\n",
      "Epoch 5/100\n",
      "1092/1092 [==============================] - 322s 295ms/step - loss: 0.2362 - accuracy: 0.9115\n",
      "Epoch 6/100\n",
      "1092/1092 [==============================] - 321s 294ms/step - loss: 0.2226 - accuracy: 0.9184\n",
      "Epoch 7/100\n",
      "1092/1092 [==============================] - 319s 292ms/step - loss: 0.1940 - accuracy: 0.9284\n",
      "Epoch 8/100\n",
      "1092/1092 [==============================] - 317s 290ms/step - loss: 0.1780 - accuracy: 0.9364\n",
      "Epoch 9/100\n",
      "1092/1092 [==============================] - 316s 289ms/step - loss: 0.1499 - accuracy: 0.9476\n",
      "Epoch 10/100\n",
      "1092/1092 [==============================] - 316s 289ms/step - loss: 0.1413 - accuracy: 0.9511\n",
      "Epoch 11/100\n",
      "1092/1092 [==============================] - 316s 289ms/step - loss: 0.1217 - accuracy: 0.9574\n",
      "Epoch 12/100\n",
      "1092/1092 [==============================] - 315s 288ms/step - loss: 0.1164 - accuracy: 0.9626\n",
      "Epoch 13/100\n",
      "1092/1092 [==============================] - 316s 289ms/step - loss: 0.0821 - accuracy: 0.9746\n",
      "Epoch 14/100\n",
      "1092/1092 [==============================] - 315s 288ms/step - loss: 0.0668 - accuracy: 0.9791\n",
      "Epoch 15/100\n",
      "1092/1092 [==============================] - 314s 288ms/step - loss: 0.0732 - accuracy: 0.9779\n",
      "Epoch 16/100\n",
      "1092/1092 [==============================] - 314s 288ms/step - loss: 0.0671 - accuracy: 0.9805\n",
      "Epoch 17/100\n",
      "1092/1092 [==============================] - 315s 288ms/step - loss: 0.0470 - accuracy: 0.9855\n",
      "Epoch 18/100\n",
      "1092/1092 [==============================] - 315s 288ms/step - loss: 0.0577 - accuracy: 0.9839\n",
      "Epoch 19/100\n",
      "1092/1092 [==============================] - 315s 289ms/step - loss: 0.0459 - accuracy: 0.9867\n",
      "Epoch 20/100\n",
      "1092/1092 [==============================] - 315s 288ms/step - loss: 0.0510 - accuracy: 0.9872\n",
      "Epoch 21/100\n",
      "1092/1092 [==============================] - 315s 289ms/step - loss: 0.0516 - accuracy: 0.9873\n",
      "Epoch 22/100\n",
      "1092/1092 [==============================] - 315s 289ms/step - loss: 0.0457 - accuracy: 0.9892\n",
      "Epoch 23/100\n",
      "1092/1092 [==============================] - 315s 288ms/step - loss: 0.0506 - accuracy: 0.9885\n",
      "Epoch 24/100\n",
      "1092/1092 [==============================] - 314s 288ms/step - loss: 0.0476 - accuracy: 0.9892\n",
      "Epoch 25/100\n",
      "1092/1092 [==============================] - 314s 287ms/step - loss: 0.0405 - accuracy: 0.9904\n",
      "Epoch 26/100\n",
      "1092/1092 [==============================] - 313s 287ms/step - loss: 0.0697 - accuracy: 0.9866\n",
      "Epoch 27/100\n",
      "1092/1092 [==============================] - 313s 287ms/step - loss: 0.0371 - accuracy: 0.9919\n",
      "Epoch 28/100\n",
      "1092/1092 [==============================] - 313s 287ms/step - loss: 0.0313 - accuracy: 0.9928\n",
      "Epoch 29/100\n",
      "1092/1092 [==============================] - 313s 286ms/step - loss: 0.0467 - accuracy: 0.9916\n",
      "Epoch 30/100\n",
      "1092/1092 [==============================] - 313s 287ms/step - loss: 0.0435 - accuracy: 0.9919\n",
      "Epoch 31/100\n",
      "1092/1092 [==============================] - 313s 287ms/step - loss: 0.0308 - accuracy: 0.9929\n",
      "Epoch 32/100\n",
      "1092/1092 [==============================] - 313s 286ms/step - loss: 0.0388 - accuracy: 0.9931\n",
      "Epoch 33/100\n",
      "1092/1092 [==============================] - 313s 287ms/step - loss: 0.0373 - accuracy: 0.9931\n",
      "Epoch 34/100\n",
      "1092/1092 [==============================] - 313s 287ms/step - loss: 0.0411 - accuracy: 0.9925\n",
      "Epoch 35/100\n",
      "1092/1092 [==============================] - 314s 287ms/step - loss: 0.0422 - accuracy: 0.9935\n",
      "Epoch 36/100\n",
      "1092/1092 [==============================] - 314s 287ms/step - loss: 0.0425 - accuracy: 0.9938\n",
      "Epoch 37/100\n",
      "1092/1092 [==============================] - 313s 287ms/step - loss: 0.0575 - accuracy: 0.9914\n",
      "Epoch 38/100\n",
      "1092/1092 [==============================] - 314s 287ms/step - loss: 0.0407 - accuracy: 0.9940\n",
      "Epoch 39/100\n",
      "1092/1092 [==============================] - 313s 287ms/step - loss: 0.0293 - accuracy: 0.9948\n",
      "Epoch 40/100\n",
      "1092/1092 [==============================] - 313s 286ms/step - loss: 0.0381 - accuracy: 0.9951\n",
      "Epoch 41/100\n",
      "1092/1092 [==============================] - 313s 286ms/step - loss: 0.0351 - accuracy: 0.9948\n",
      "Epoch 42/100\n",
      "1092/1092 [==============================] - 313s 287ms/step - loss: 0.0460 - accuracy: 0.9936\n",
      "Epoch 43/100\n",
      "1092/1092 [==============================] - 313s 287ms/step - loss: 0.0404 - accuracy: 0.9944\n",
      "Epoch 44/100\n",
      "1092/1092 [==============================] - 315s 288ms/step - loss: 0.2247 - accuracy: 0.9675\n",
      "Epoch 45/100\n",
      "1092/1092 [==============================] - 314s 288ms/step - loss: 0.0344 - accuracy: 0.9943\n",
      "Epoch 46/100\n",
      "1092/1092 [==============================] - 316s 289ms/step - loss: 0.0214 - accuracy: 0.9964\n",
      "Epoch 47/100\n",
      "1092/1092 [==============================] - 315s 288ms/step - loss: 0.0356 - accuracy: 0.9949\n",
      "Epoch 48/100\n",
      "1092/1092 [==============================] - 314s 287ms/step - loss: 0.0408 - accuracy: 0.9945\n",
      "Epoch 49/100\n",
      "1092/1092 [==============================] - 314s 287ms/step - loss: 0.0340 - accuracy: 0.9948\n",
      "Epoch 50/100\n",
      "1092/1092 [==============================] - 313s 287ms/step - loss: 0.0364 - accuracy: 0.9956\n",
      "Epoch 51/100\n",
      "1092/1092 [==============================] - 314s 287ms/step - loss: 0.0288 - accuracy: 0.9960\n",
      "Epoch 52/100\n",
      "1092/1092 [==============================] - 314s 287ms/step - loss: 0.0217 - accuracy: 0.9967\n",
      "Epoch 53/100\n",
      "1092/1092 [==============================] - 313s 287ms/step - loss: 0.0416 - accuracy: 0.9951\n",
      "Epoch 54/100\n",
      "1092/1092 [==============================] - 313s 287ms/step - loss: 0.0312 - accuracy: 0.9964\n",
      "Epoch 55/100\n",
      "1092/1092 [==============================] - 314s 287ms/step - loss: 0.0453 - accuracy: 0.9955\n",
      "Epoch 56/100\n",
      "1092/1092 [==============================] - 314s 287ms/step - loss: 0.0330 - accuracy: 0.9965\n",
      "Epoch 57/100\n",
      "1092/1092 [==============================] - 313s 287ms/step - loss: 0.0253 - accuracy: 0.9975\n",
      "Epoch 58/100\n",
      "1092/1092 [==============================] - 313s 287ms/step - loss: 0.0315 - accuracy: 0.9961\n",
      "Epoch 59/100\n",
      "1092/1092 [==============================] - 314s 287ms/step - loss: 0.0349 - accuracy: 0.9956\n",
      "Epoch 60/100\n",
      "1092/1092 [==============================] - 314s 288ms/step - loss: 0.0402 - accuracy: 0.9966\n",
      "Epoch 61/100\n",
      "1092/1092 [==============================] - 314s 288ms/step - loss: 0.0484 - accuracy: 0.9954\n",
      "Epoch 62/100\n",
      "1092/1092 [==============================] - 314s 287ms/step - loss: 0.0417 - accuracy: 0.9963\n",
      "Epoch 63/100\n",
      "1092/1092 [==============================] - 315s 288ms/step - loss: 0.0487 - accuracy: 0.9959\n",
      "Epoch 64/100\n",
      "1092/1092 [==============================] - 314s 287ms/step - loss: 0.0297 - accuracy: 0.9973\n",
      "Epoch 65/100\n",
      "1092/1092 [==============================] - 314s 287ms/step - loss: 0.0242 - accuracy: 0.9973\n",
      "Epoch 66/100\n",
      "1092/1092 [==============================] - 314s 288ms/step - loss: 0.0749 - accuracy: 0.9947\n",
      "Epoch 67/100\n",
      "1092/1092 [==============================] - 313s 287ms/step - loss: 0.0268 - accuracy: 0.9977\n",
      "Epoch 68/100\n",
      "1092/1092 [==============================] - 313s 286ms/step - loss: 0.0392 - accuracy: 0.9967\n",
      "Epoch 69/100\n",
      "1092/1092 [==============================] - 314s 287ms/step - loss: 0.0325 - accuracy: 0.9971\n",
      "Epoch 70/100\n",
      "1092/1092 [==============================] - 313s 287ms/step - loss: 0.0385 - accuracy: 0.9967\n",
      "Epoch 71/100\n",
      "1092/1092 [==============================] - 314s 288ms/step - loss: 0.0507 - accuracy: 0.9958\n",
      "Epoch 72/100\n",
      "1092/1092 [==============================] - 313s 286ms/step - loss: 0.0506 - accuracy: 0.9962\n",
      "Epoch 73/100\n",
      "1092/1092 [==============================] - 313s 287ms/step - loss: 0.0523 - accuracy: 0.9966\n",
      "Epoch 74/100\n",
      "1092/1092 [==============================] - 313s 287ms/step - loss: 0.0337 - accuracy: 0.9973\n",
      "Epoch 75/100\n",
      "1092/1092 [==============================] - 313s 286ms/step - loss: 0.0311 - accuracy: 0.9971\n",
      "Epoch 76/100\n"
     ]
    },
    {
     "name": "stdout",
     "output_type": "stream",
     "text": [
      "1092/1092 [==============================] - 312s 286ms/step - loss: 0.0453 - accuracy: 0.9971\n",
      "Epoch 77/100\n",
      "1092/1092 [==============================] - 314s 287ms/step - loss: 0.0392 - accuracy: 0.9970\n",
      "Epoch 78/100\n",
      "1092/1092 [==============================] - 314s 288ms/step - loss: 0.0226 - accuracy: 0.9983\n",
      "Epoch 79/100\n",
      "1092/1092 [==============================] - 314s 288ms/step - loss: 0.0472 - accuracy: 0.9971\n",
      "Epoch 80/100\n",
      "1092/1092 [==============================] - 313s 287ms/step - loss: 0.0565 - accuracy: 0.9965\n",
      "Epoch 81/100\n",
      "1092/1092 [==============================] - 313s 287ms/step - loss: 0.0457 - accuracy: 0.9961\n",
      "Epoch 82/100\n",
      "1092/1092 [==============================] - 314s 287ms/step - loss: 0.0339 - accuracy: 0.9975\n",
      "Epoch 83/100\n",
      "1092/1092 [==============================] - 313s 287ms/step - loss: 0.0592 - accuracy: 0.9962\n",
      "Epoch 84/100\n",
      "1092/1092 [==============================] - 314s 288ms/step - loss: 0.0437 - accuracy: 0.9967\n",
      "Epoch 85/100\n",
      "1092/1092 [==============================] - 314s 287ms/step - loss: 0.0257 - accuracy: 0.9981\n",
      "Epoch 86/100\n",
      "1092/1092 [==============================] - 314s 287ms/step - loss: 0.0582 - accuracy: 0.9967\n",
      "Epoch 87/100\n",
      "1092/1092 [==============================] - 315s 288ms/step - loss: 0.0415 - accuracy: 0.9975\n",
      "Epoch 88/100\n",
      "1092/1092 [==============================] - 314s 288ms/step - loss: 0.0568 - accuracy: 0.9972\n",
      "Epoch 89/100\n",
      "1092/1092 [==============================] - 314s 288ms/step - loss: 0.0366 - accuracy: 0.9975\n",
      "Epoch 90/100\n",
      "1092/1092 [==============================] - 314s 287ms/step - loss: 0.0456 - accuracy: 0.9974\n",
      "Epoch 91/100\n",
      "1092/1092 [==============================] - 314s 288ms/step - loss: 0.0430 - accuracy: 0.9974\n",
      "Epoch 92/100\n",
      "1092/1092 [==============================] - 315s 289ms/step - loss: 0.0413 - accuracy: 0.9973\n",
      "Epoch 93/100\n",
      "1092/1092 [==============================] - 314s 287ms/step - loss: 0.0477 - accuracy: 0.9973\n",
      "Epoch 94/100\n",
      "1092/1092 [==============================] - 313s 287ms/step - loss: 0.0405 - accuracy: 0.9976\n",
      "Epoch 95/100\n",
      "1092/1092 [==============================] - 313s 286ms/step - loss: 0.0463 - accuracy: 0.9979\n",
      "Epoch 96/100\n",
      "1092/1092 [==============================] - 313s 287ms/step - loss: 0.0489 - accuracy: 0.9972\n",
      "Epoch 97/100\n",
      "1092/1092 [==============================] - 313s 287ms/step - loss: 0.0779 - accuracy: 0.9967\n",
      "Epoch 98/100\n",
      "1092/1092 [==============================] - 313s 287ms/step - loss: 0.0382 - accuracy: 0.9981\n",
      "Epoch 99/100\n",
      "1092/1092 [==============================] - 313s 287ms/step - loss: 0.0453 - accuracy: 0.9974\n",
      "Epoch 100/100\n",
      "1092/1092 [==============================] - 314s 287ms/step - loss: 0.0399 - accuracy: 0.9974\n"
     ]
    }
   ],
   "source": [
    "from tensorflow.keras.callbacks import ModelCheckpoint\n",
    "\n",
    "callbacks = [\n",
    "    ModelCheckpoint(\n",
    "        filepath=\"classificacao16.keras\",\n",
    "        save_best_only=True,\n",
    "        monitor=\"loss\"\n",
    "    )\n",
    "]\n",
    "\n",
    "history = model.fit(\n",
    "    train_dataset,\n",
    "    epochs=100,\n",
    "    #validation_data=validation_dataset,\n",
    "    callbacks=callbacks)\n",
    "\n"
   ]
  },
  {
   "cell_type": "code",
   "execution_count": 8,
   "id": "abc4336c",
   "metadata": {},
   "outputs": [
    {
     "name": "stdout",
     "output_type": "stream",
     "text": [
      "Model: \"sequential\"\n",
      "_________________________________________________________________\n",
      "Layer (type)                 Output Shape              Param #   \n",
      "=================================================================\n",
      "conv2d (Conv2D)              (None, 178, 178, 32)      896       \n",
      "_________________________________________________________________\n",
      "max_pooling2d (MaxPooling2D) (None, 89, 89, 32)        0         \n",
      "_________________________________________________________________\n",
      "conv2d_1 (Conv2D)            (None, 87, 87, 64)        18496     \n",
      "_________________________________________________________________\n",
      "flatten (Flatten)            (None, 484416)            0         \n",
      "_________________________________________________________________\n",
      "dense (Dense)                (None, 1)                 484417    \n",
      "=================================================================\n",
      "Total params: 503,809\n",
      "Trainable params: 503,809\n",
      "Non-trainable params: 0\n",
      "_________________________________________________________________\n"
     ]
    }
   ],
   "source": [
    "model.summary()"
   ]
  },
  {
   "cell_type": "code",
   "execution_count": 9,
   "id": "e7ce4280",
   "metadata": {},
   "outputs": [],
   "source": [
    "#https://www.tensorflow.org/js/tutorials/conversion/import_keras?hl=pt-br#alternative_use_the_python_api_to_export_directly_to_tfjs_layers_format\n",
    "import tensorflowjs as tfjs\n",
    "tfjs.converters.save_keras_model(model, \"conversao_01_16\")"
   ]
  },
  {
   "cell_type": "markdown",
   "id": "83105faa",
   "metadata": {},
   "source": [
    "# Visualização de Resultados"
   ]
  },
  {
   "cell_type": "code",
   "execution_count": 10,
   "id": "5678cc42",
   "metadata": {},
   "outputs": [
    {
     "data": {
      "image/png": "[encoded data removed]",
      "text/plain": [
       "<Figure size 432x288 with 1 Axes>"
      ]
     },
     "metadata": {
      "needs_background": "light"
     },
     "output_type": "display_data"
    },
    {
     "data": {
      "image/png": "[encoded data removed]",
      "text/plain": [
       "<Figure size 432x288 with 1 Axes>"
      ]
     },
     "metadata": {
      "needs_background": "light"
     },
     "output_type": "display_data"
    }
   ],
   "source": [
    "import matplotlib.pyplot as plt\n",
    "accuracy = history.history[\"accuracy\"]\n",
    "#val_accuracy = history.history[\"val_accuracy\"]\n",
    "loss = history.history[\"loss\"]\n",
    "#val_loss = history.history[\"val_loss\"]\n",
    "epochs = range(1, len(accuracy) + 1)\n",
    "plt.plot(epochs, accuracy, \"r\", label=\"Treino acc\")\n",
    "#plt.plot(epochs, val_accuracy, \"b\", label=\"Val acc\")\n",
    "plt.xlabel(\"Épocas\")\n",
    "plt.ylabel(\"%s\")\n",
    "plt.title(\"Acurácia de Treino e Validação\")\n",
    "plt.legend()\n",
    "plt.figure()\n",
    "plt.plot(epochs, loss, \"r\", label=\"Treino loss\")\n",
    "#plt.plot(epochs, val_loss, \"b\", label=\"Val loss\")\n",
    "plt.xlabel(\"Épocas\")\n",
    "plt.ylabel(\"%s\")\n",
    "plt.title(\"Loss de Treino e Validação\")\n",
    "plt.legend()\n",
    "plt.show()"
   ]
  },
  {
   "cell_type": "markdown",
   "id": "3b306a97",
   "metadata": {},
   "source": [
    "# Resultados do Conjunto de Teste"
   ]
  },
  {
   "cell_type": "code",
   "execution_count": 11,
   "id": "3a631a70",
   "metadata": {},
   "outputs": [],
   "source": [
    "#from tensorflow import keras\n",
    "#model = keras.models.load_model(\"classificacao01.keras\")\n",
    "# serialize model to JSON\n",
    "#model_json = model.to_json()\n",
    "#with open(\"classificacao01.json\", \"w\") as json_file:json_file.write(model_json)\n",
    "# serialize weights to HDF5\n",
    "#model.save_weights(\"classificacao01.h5\")\n",
    "#print(\"Saved model to disk\")"
   ]
  },
  {
   "cell_type": "code",
   "execution_count": 12,
   "id": "dcf948b2",
   "metadata": {},
   "outputs": [
    {
     "name": "stdout",
     "output_type": "stream",
     "text": [
      "16/16 [==============================] - 1s 57ms/step - loss: 0.9463 - accuracy: 0.9835\n",
      "Test accuracy: 0.983\n"
     ]
    }
   ],
   "source": [
    "test_loss, test_acc = model.evaluate(test_dataset)\n",
    "print(f\"Test accuracy: {test_acc:.3f}\")"
   ]
  },
  {
   "cell_type": "markdown",
   "id": "a0509efa",
   "metadata": {},
   "source": [
    "\n"
   ]
  },
  {
   "cell_type": "markdown",
   "id": "d1f24c41",
   "metadata": {},
   "source": [
    "# Referências\n",
    "\n",
    "* https://machinelearningmastery.com/how-to-develop-a-convolutional-neural-network-to-classify-photos-of-dogs-and-cats/\n",
    "* https://stackoverflow.com/questions/3430372/how-do-i-get-the-full-path-of-the-current-files-directory\n",
    "* https://www.geeksforgeeks.org/python-list-files-in-a-directory/\n",
    "* https://pynative.com/python-random-sample/\n",
    "* https://machinelearningmastery.com/how-to-develop-a-convolutional-neural-network-to-classify-photos-of-dogs-and-cats/\n",
    "* https://www.mygreatlearning.com/blog/keras-tutorial/\n",
    "* https://www.machinecurve.com/index.php/2020/03/30/how-to-use-conv2d-with-keras/\n",
    "* https://www.pyimagesearch.com/2021/06/30/how-to-use-the-modelcheckpoint-callback-with-keras-and-tensorflow/"
   ]
  }
 ],
 "metadata": {
  "kernelspec": {
   "display_name": "Python 3 (ipykernel)",
   "language": "python",
   "name": "python3"
  },
  "language_info": {
   "codemirror_mode": {
    "name": "ipython",
    "version": 3
   },
   "file_extension": ".py",
   "mimetype": "text/x-python",
   "name": "python",
   "nbconvert_exporter": "python",
   "pygments_lexer": "ipython3",
   "version": "3.8.10"
  }
 },
 "nbformat": 4,
 "nbformat_minor": 5
}
