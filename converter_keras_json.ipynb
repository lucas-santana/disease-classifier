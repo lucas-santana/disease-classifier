{
 "cells": [
  {
   "cell_type": "code",
   "execution_count": null,
   "id": "2234ae5a",
   "metadata": {},
   "outputs": [],
   "source": [
    "import os\n",
    "import glob\n",
    "import tensorflowjs as tfjs\n",
    "from tensorflow import keras\n",
    "\n",
    "current_dir = os.path.abspath(os.getcwd())\n",
    "folder = \"/dataset\"\n",
    "train_folder = current_dir + folder + \"/train\"\n",
    "test_folder = current_dir + folder + \"/test\""
   ]
  },
  {
   "cell_type": "code",
   "execution_count": null,
   "id": "1ff4c849",
   "metadata": {},
   "outputs": [],
   "source": [
    "def converterKeras(pathKeras):\n",
    "    fileName = pathKeras.split(\"/\")[-1]\n",
    "    fileName = fileName.split(\".keras\")[-2]\n",
    "    \n",
    "    model = keras.models.load_model(pathKeras)\n",
    "    tfjs.converters.save_keras_model(model, \"conversao/json/\"+fileName)"
   ]
  },
  {
   "cell_type": "code",
   "execution_count": null,
   "id": "364e5eae",
   "metadata": {},
   "outputs": [],
   "source": [
    "kerasFilePath  = current_dir+\"/keras/keras/*\"\n",
    "kerasFiles = glob.glob(kerasFilePath)"
   ]
  },
  {
   "cell_type": "code",
   "execution_count": null,
   "id": "7f99f8ce",
   "metadata": {},
   "outputs": [],
   "source": [
    "converterKeras(current_dir+\"/keras/keras/20221107_041534.keras\")"
   ]
  },
  {
   "cell_type": "code",
   "execution_count": null,
   "id": "106ba5b3",
   "metadata": {},
   "outputs": [],
   "source": [
    "#Converter todos arquivos Keras\n",
    "for file in kerasFiles:\n",
    "    converterKeras(file)"
   ]
  }
 ],
 "metadata": {
  "kernelspec": {
   "display_name": "Python 3 (ipykernel)",
   "language": "python",
   "name": "python3"
  },
  "language_info": {
   "codemirror_mode": {
    "name": "ipython",
    "version": 3
   },
   "file_extension": ".py",
   "mimetype": "text/x-python",
   "name": "python",
   "nbconvert_exporter": "python",
   "pygments_lexer": "ipython3",
   "version": "3.8.10"
  }
 },
 "nbformat": 4,
 "nbformat_minor": 5
}
