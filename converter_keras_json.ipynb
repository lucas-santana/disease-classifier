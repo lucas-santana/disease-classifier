{
 "cells": [
  {
   "cell_type": "code",
   "execution_count": 1,
   "id": "2234ae5a",
   "metadata": {},
   "outputs": [
    {
     "name": "stderr",
     "output_type": "stream",
     "text": [
      "2022-11-21 08:59:28.073461: I tensorflow/core/platform/cpu_feature_guard.cc:193] This TensorFlow binary is optimized with oneAPI Deep Neural Network Library (oneDNN) to use the following CPU instructions in performance-critical operations:  AVX2 FMA\n",
      "To enable them in other operations, rebuild TensorFlow with the appropriate compiler flags.\n",
      "2022-11-21 08:59:28.201035: W tensorflow/stream_executor/platform/default/dso_loader.cc:64] Could not load dynamic library 'libcudart.so.11.0'; dlerror: libcudart.so.11.0: cannot open shared object file: No such file or directory\n",
      "2022-11-21 08:59:28.201055: I tensorflow/stream_executor/cuda/cudart_stub.cc:29] Ignore above cudart dlerror if you do not have a GPU set up on your machine.\n",
      "2022-11-21 08:59:28.223308: E tensorflow/stream_executor/cuda/cuda_blas.cc:2981] Unable to register cuBLAS factory: Attempting to register factory for plugin cuBLAS when one has already been registered\n",
      "2022-11-21 08:59:28.720463: W tensorflow/stream_executor/platform/default/dso_loader.cc:64] Could not load dynamic library 'libnvinfer.so.7'; dlerror: libnvinfer.so.7: cannot open shared object file: No such file or directory\n",
      "2022-11-21 08:59:28.720541: W tensorflow/stream_executor/platform/default/dso_loader.cc:64] Could not load dynamic library 'libnvinfer_plugin.so.7'; dlerror: libnvinfer_plugin.so.7: cannot open shared object file: No such file or directory\n",
      "2022-11-21 08:59:28.720546: W tensorflow/compiler/tf2tensorrt/utils/py_utils.cc:38] TF-TRT Warning: Cannot dlopen some TensorRT libraries. If you would like to use Nvidia GPU with TensorRT, please make sure the missing libraries mentioned above are installed properly.\n"
     ]
    }
   ],
   "source": [
    "import os\n",
    "import glob\n",
    "import tensorflowjs as tfjs\n",
    "from tensorflow import keras\n",
    "\n",
    "current_dir = os.path.abspath(os.getcwd())\n",
    "folder = \"/dataset\"\n",
    "train_folder = current_dir + folder + \"/train\"\n",
    "test_folder = current_dir + folder + \"/test\""
   ]
  },
  {
   "cell_type": "code",
   "execution_count": 2,
   "id": "1ff4c849",
   "metadata": {},
   "outputs": [],
   "source": [
    "def converterKeras(pathKeras):\n",
    "    fileName = pathKeras.split(\"/\")[-1]\n",
    "    fileName = fileName.split(\".keras\")[-2]\n",
    "    \n",
    "    model = keras.models.load_model(pathKeras)\n",
    "    tfjs.converters.save_keras_model(model, \"conversao/json/\"+fileName)"
   ]
  },
  {
   "cell_type": "code",
   "execution_count": 3,
   "id": "364e5eae",
   "metadata": {},
   "outputs": [],
   "source": [
    "kerasFilePath  = current_dir+\"/keras/keras/*\"\n",
    "kerasFiles = glob.glob(kerasFilePath)"
   ]
  },
  {
   "cell_type": "code",
   "execution_count": 4,
   "id": "7f99f8ce",
   "metadata": {},
   "outputs": [],
   "source": [
    "#converterKeras(current_dir+\"/keras/keras/20221107_041534.keras\")"
   ]
  },
  {
   "cell_type": "code",
   "execution_count": 5,
   "id": "106ba5b3",
   "metadata": {},
   "outputs": [
    {
     "name": "stderr",
     "output_type": "stream",
     "text": [
      "2022-11-21 08:59:30.417322: W tensorflow/stream_executor/platform/default/dso_loader.cc:64] Could not load dynamic library 'libcuda.so.1'; dlerror: libcuda.so.1: cannot open shared object file: No such file or directory\n",
      "2022-11-21 08:59:30.417358: W tensorflow/stream_executor/cuda/cuda_driver.cc:263] failed call to cuInit: UNKNOWN ERROR (303)\n",
      "2022-11-21 08:59:30.417371: I tensorflow/stream_executor/cuda/cuda_diagnostics.cc:156] kernel driver does not appear to be running on this host (batcomputer): /proc/driver/nvidia/version does not exist\n",
      "2022-11-21 08:59:30.417542: I tensorflow/core/platform/cpu_feature_guard.cc:193] This TensorFlow binary is optimized with oneAPI Deep Neural Network Library (oneDNN) to use the following CPU instructions in performance-critical operations:  AVX2 FMA\n",
      "To enable them in other operations, rebuild TensorFlow with the appropriate compiler flags.\n"
     ]
    }
   ],
   "source": [
    "#Converter todos arquivos Keras\n",
    "for file in kerasFiles:\n",
    "    converterKeras(file)"
   ]
  }
 ],
 "metadata": {
  "kernelspec": {
   "display_name": "Python 3 (ipykernel)",
   "language": "python",
   "name": "python3"
  },
  "language_info": {
   "codemirror_mode": {
    "name": "ipython",
    "version": 3
   },
   "file_extension": ".py",
   "mimetype": "text/x-python",
   "name": "python",
   "nbconvert_exporter": "python",
   "pygments_lexer": "ipython3",
   "version": "3.10.4"
  }
 },
 "nbformat": 4,
 "nbformat_minor": 5
}
