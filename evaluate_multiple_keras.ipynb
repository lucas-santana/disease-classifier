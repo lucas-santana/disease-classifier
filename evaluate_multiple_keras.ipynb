{
 "cells": [
  {
   "cell_type": "code",
   "execution_count": null,
   "id": "23703bfe",
   "metadata": {},
   "outputs": [],
   "source": [
    "import os\n",
    "import glob\n",
    "current_dir = os.path.abspath(os.getcwd())"
   ]
  },
  {
   "cell_type": "code",
   "execution_count": null,
   "id": "9b2aff3f",
   "metadata": {},
   "outputs": [],
   "source": [
    "folder = \"/dataset\"\n",
    "train_folder = current_dir + folder + \"/train\"\n",
    "test_folder = current_dir + folder + \"/test\""
   ]
  },
  {
   "cell_type": "code",
   "execution_count": null,
   "id": "4b987545",
   "metadata": {
    "scrolled": true
   },
   "outputs": [],
   "source": [
    "from tensorflow.keras.utils import image_dataset_from_directory\n",
    "\n",
    "train_dataset = image_dataset_from_directory(train_folder,\n",
    "                                             image_size=(180, 180),\n",
    "                                             batch_size=32)\n",
    "\n",
    "test_dataset = image_dataset_from_directory(test_folder,\n",
    "                                            image_size=(180, 180),\n",
    "                                            batch_size=32)"
   ]
  },
  {
   "cell_type": "code",
   "execution_count": null,
   "id": "12c8c6cf",
   "metadata": {},
   "outputs": [],
   "source": [
    "from tensorflow import keras\n",
    "kerasFilePath  = current_dir+\"/keras/keras/*\"\n",
    "kerasFiles = glob.glob(kerasFilePath)"
   ]
  },
  {
   "cell_type": "markdown",
   "id": "33390e93",
   "metadata": {},
   "source": [
    "# ACC para o dataset de teste"
   ]
  },
  {
   "cell_type": "code",
   "execution_count": null,
   "id": "fee4d7d9",
   "metadata": {},
   "outputs": [],
   "source": [
    "import csv\n",
    "from datetime import datetime\n",
    "\n",
    "with open(current_dir+\"/statistics/py/\"+datetime.today().strftime('test_%Y%m%d_%H%M%S')+\".csv\", 'w',encoding='latin1') as f:\n",
    "    writer = csv.writer(f)\n",
    "    header = ['Média', 'acc']\n",
    "    writer.writerow(header)\n",
    "    \n",
    "    count = 0\n",
    "    soma =0\n",
    "    for file in kerasFiles:\n",
    "        filename = file.split(\"/\")[-1]\n",
    "        model = keras.models.load_model(file)\n",
    "        test_loss, test_acc = model.evaluate(test_dataset)\n",
    "        writer.writerow([filename,test_acc])\n",
    "        soma += test_acc\n",
    "        count+=1\n",
    "    writer.writerow([\"Soma\",soma])\n",
    "    writer.writerow([\"Média\",soma/count])"
   ]
  },
  {
   "cell_type": "markdown",
   "id": "8fb079f8",
   "metadata": {},
   "source": [
    "# ACC para o dataset de treino"
   ]
  },
  {
   "cell_type": "code",
   "execution_count": null,
   "id": "918ba91a",
   "metadata": {},
   "outputs": [],
   "source": [
    "with open(current_dir+\"/statistics/py/\"+datetime.today().strftime('train_%Y%m%d_%H%M%S')+\".csv\", 'w',encoding='latin1') as f:\n",
    "    writer = csv.writer(f)\n",
    "    header = ['Média', 'acc']\n",
    "    writer.writerow(header)\n",
    "    \n",
    "    count = 0\n",
    "    soma =0\n",
    "    for file in kerasFiles:\n",
    "        filename = file.split(\"/\")[-1]\n",
    "        model = keras.models.load_model(file)\n",
    "        test_loss, test_acc = model.evaluate(train_dataset)\n",
    "        writer.writerow([filename,test_acc])\n",
    "        soma += test_acc\n",
    "        count+=1\n",
    "    writer.writerow([\"Soma\",soma])\n",
    "    writer.writerow([\"Média\",soma/count])"
   ]
  }
 ],
 "metadata": {
  "kernelspec": {
   "display_name": "Python 3 (ipykernel)",
   "language": "python",
   "name": "python3"
  },
  "language_info": {
   "codemirror_mode": {
    "name": "ipython",
    "version": 3
   },
   "file_extension": ".py",
   "mimetype": "text/x-python",
   "name": "python",
   "nbconvert_exporter": "python",
   "pygments_lexer": "ipython3",
   "version": "3.8.10"
  }
 },
 "nbformat": 4,
 "nbformat_minor": 5
}
